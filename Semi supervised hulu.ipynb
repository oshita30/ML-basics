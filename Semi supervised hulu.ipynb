{
 "cells": [
  {
   "cell_type": "markdown",
   "metadata": {
    "id": "iyBTkAdB1WhM"
   },
   "source": [
    "# Importing Libraries\n",
    "\n",
    "---\n",
    "\n",
    "\n",
    "*   **numpy & matplotlib** heve been used for vector manipulatiion and visualisation.\n",
    "*   **tensorflow & keras** have been used for importing the data and constructing the neural network model.\n",
    "*   **Logistic Regression & KMeans** have been directy imported from sklearn and implented on the data.\n",
    "*   The **metrics** library from sklearn is used to analyse and compare the models.\n",
    "---\n"
   ]
  },
  {
   "cell_type": "code",
   "execution_count": null,
   "metadata": {
    "id": "vKxBUPYr-92F"
   },
   "outputs": [],
   "source": [
    "import tensorflow as tf\n",
    "from tensorflow import keras\n",
    "\n",
    "import numpy as np\n",
    "import matplotlib.pyplot as plt\n",
    "\n",
    "from sklearn.cluster import KMeans\n",
    "from sklearn.cluster import MiniBatchKMeans\n",
    "from sklearn.linear_model import LogisticRegression\n",
    "\n",
    "from sklearn import metrics\n",
    "from scipy.spatial.distance import cdist"
   ]
  },
  {
   "cell_type": "markdown",
   "metadata": {
    "id": "HjdZ-XpC1v0c"
   },
   "source": [
    "# Importing the data\n",
    "\n",
    "--- \n",
    "\n",
    "* Fashion-MNIST is a dataset of Zalando's article images—consisting of a training set of 60,000 examples and a test set of 10,000 examples. \n",
    "\n",
    "* Each image is 28 pixels in height and 28 pixels in width, for a total of 784 pixels in total. Each pixel has a single value associated with it which indicates the greyscale value.\n",
    "  * The training and test data sets have 785 columns. \n",
    "  * The first column consists of the class labels, and represents the article of clothing. \n",
    "  * The rest of the columns contain the pixel-values of the associated image.\n",
    "\n",
    "* Each training and test example is assigned to one of the following labels:\n",
    "      0 T-shirt/top\n",
    "      1 Trouser\n",
    "      2 Pullover\n",
    "      3 Dress\n",
    "      4 Coat\n",
    "      5 Sandal\n",
    "      6 Shirt\n",
    "      7 Sneaker\n",
    "      8 Bag\n",
    "      9 Ankle boot\n",
    "\n",
    "---"
   ]
  },
  {
   "cell_type": "code",
   "execution_count": null,
   "metadata": {
    "id": "GmEUIUtx_N6D"
   },
   "outputs": [],
   "source": [
    "fashion_mnist = keras.datasets.fashion_mnist"
   ]
  },
  {
   "cell_type": "code",
   "execution_count": null,
   "metadata": {
    "id": "CWa-a2pc_n9o"
   },
   "outputs": [],
   "source": [
    "(X_train_full, y_train_full), (X_test, y_test) = fashion_mnist.load_data()"
   ]
  },
  {
   "cell_type": "code",
   "execution_count": null,
   "metadata": {
    "colab": {
     "base_uri": "https://localhost:8080/"
    },
    "id": "uFo7g0z-_wPC",
    "outputId": "5411565a-a0aa-480a-a462-ea68acbb886a"
   },
   "outputs": [
    {
     "data": {
      "text/plain": [
       "(60000, 28, 28)"
      ]
     },
     "execution_count": 6,
     "metadata": {
      "tags": []
     },
     "output_type": "execute_result"
    }
   ],
   "source": [
    "X_train_full.shape  # 60,000 matrices of size 28x28"
   ]
  },
  {
   "cell_type": "code",
   "execution_count": null,
   "metadata": {
    "colab": {
     "base_uri": "https://localhost:8080/"
    },
    "id": "sJRKdaZOA2TF",
    "outputId": "bbf1e976-2112-4412-b810-133d28079c4c"
   },
   "outputs": [
    {
     "data": {
      "text/plain": [
       "(10000, 28, 28)"
      ]
     },
     "execution_count": 7,
     "metadata": {
      "tags": []
     },
     "output_type": "execute_result"
    }
   ],
   "source": [
    "X_test.shape"
   ]
  },
  {
   "cell_type": "code",
   "execution_count": null,
   "metadata": {
    "id": "1co54nNfBptW"
   },
   "outputs": [],
   "source": [
    "class_names = [\"T-shirt/top\", \"Trouser\", \"Pullover\", \"Dress\", \"Coat\", \"Sandal\", \"Shirt\", \"Sneaker\", \"Bag\", \"Ankle boot\"]"
   ]
  },
  {
   "cell_type": "code",
   "execution_count": null,
   "metadata": {
    "colab": {
     "base_uri": "https://localhost:8080/"
    },
    "id": "BCnuEnVcV-TG",
    "outputId": "f4ed0759-4381-47f4-98a3-366bf8837b07"
   },
   "outputs": [
    {
     "data": {
      "text/plain": [
       "((10000, 784), (60000, 28, 28), (60000, 784), (10000,))"
      ]
     },
     "execution_count": 9,
     "metadata": {
      "tags": []
     },
     "output_type": "execute_result"
    }
   ],
   "source": [
    "X_train=X_train_full.reshape((60000,784))\n",
    "X_test=X_test.reshape((10000,784))\n",
    "X_test.shape, X_train_full.shape , X_train.shape , y_test.shape"
   ]
  },
  {
   "cell_type": "code",
   "execution_count": null,
   "metadata": {
    "id": "bnzqmDrL8AxG"
   },
   "outputs": [],
   "source": [
    "X_train = X_train/255\n",
    "X_test = X_test/255"
   ]
  },
  {
   "cell_type": "markdown",
   "metadata": {
    "id": "8vWs4asC10nM"
   },
   "source": [
    "# Model 1A : Representative 1000 samples\n",
    "\n",
    "---\n"
   ]
  },
  {
   "cell_type": "code",
   "execution_count": null,
   "metadata": {
    "id": "OjEMnTUUHO8-"
   },
   "outputs": [],
   "source": [
    "inertia_dict={}"
   ]
  },
  {
   "cell_type": "code",
   "execution_count": null,
   "metadata": {
    "id": "Dgr1jEe6Z5qd"
   },
   "outputs": [],
   "source": [
    "k=1000\n",
    "from sklearn.cluster import KMeans\n",
    "kmeans = KMeans(n_clusters=k,random_state=42)\n",
    "X_digits_dist = kmeans.fit_transform(X_train)\n",
    "representative_digit_idx = np.argmin(X_digits_dist, axis=0)\n",
    "X_representative_images = X_train_full[representative_digit_idx]\n",
    "inertia_dict[k]=kmeans.inertia_\n",
    "y_representative_images = y_train_full[representative_digit_idx]"
   ]
  },
  {
   "cell_type": "code",
   "execution_count": null,
   "metadata": {
    "colab": {
     "base_uri": "https://localhost:8080/"
    },
    "id": "WECU6k-MHCwi",
    "outputId": "8a0dd256-50b6-4593-b67a-2dc85dc676bd"
   },
   "outputs": [
    {
     "data": {
      "text/plain": [
       "{1000: 874311.2459189012}"
      ]
     },
     "execution_count": 13,
     "metadata": {
      "tags": []
     },
     "output_type": "execute_result"
    }
   ],
   "source": [
    "inertia_dict"
   ]
  },
  {
   "cell_type": "code",
   "execution_count": null,
   "metadata": {
    "colab": {
     "base_uri": "https://localhost:8080/"
    },
    "id": "cLMpO5BprVvt",
    "outputId": "2d6e0ec9-eb73-414d-8559-20eb257175ff"
   },
   "outputs": [
    {
     "data": {
      "text/plain": [
       "0.7760833333333333"
      ]
     },
     "execution_count": 12,
     "metadata": {
      "tags": []
     },
     "output_type": "execute_result"
    }
   ],
   "source": [
    "from sklearn.linear_model import LogisticRegression\n",
    "log_reg = LogisticRegression(multi_class=\"ovr\",random_state=42,max_iter=500,solver='liblinear')\n",
    "log_reg.fit(X_representative_images.reshape((k,784)), y_representative_images)\n",
    "log_reg.score(X_train_full.reshape((60000,784)), y_train_full)"
   ]
  },
  {
   "cell_type": "markdown",
   "metadata": {
    "id": "w4LrtjT818x-"
   },
   "source": [
    "# Model 1B : Representative samples using Minibatch\n",
    "\n",
    "\n",
    "\n",
    "---\n"
   ]
  },
  {
   "cell_type": "code",
   "execution_count": null,
   "metadata": {
    "id": "Tz7ZZ5mFA9Bn"
   },
   "outputs": [],
   "source": [
    "inertia_dict_minibatch={}"
   ]
  },
  {
   "cell_type": "code",
   "execution_count": null,
   "metadata": {
    "id": "oVATsKznCtJG"
   },
   "outputs": [],
   "source": [
    "minibatch_scores={}"
   ]
  },
  {
   "cell_type": "code",
   "execution_count": null,
   "metadata": {
    "id": "9Z69AaX3ApPz"
   },
   "outputs": [],
   "source": [
    "for k in range(1100,1200,10):\n",
    "    kmeans_mini = MiniBatchKMeans(n_clusters=k,random_state=42)\n",
    "    X_digits_dist = kmeans_mini.fit_transform(X_train)\n",
    "    representative_digit_idx = np.argmin(X_digits_dist, axis=0)\n",
    "    X_representative_images = X_train_full[representative_digit_idx]\n",
    "    inertia_dict_minibatch[k]=kmeans_mini.inertia_\n",
    "    y_representative_images = y_train_full[representative_digit_idx]\n",
    "\n",
    "    log_reg = LogisticRegression(multi_class=\"ovr\",random_state=42,max_iter=500,solver='liblinear')\n",
    "    log_reg.fit(X_representative_images.reshape((k,784)), y_representative_images)\n",
    "    minibatch_scores[k] = log_reg.score(X_train_full.reshape((60000,784)), y_train_full)"
   ]
  },
  {
   "cell_type": "code",
   "execution_count": null,
   "metadata": {
    "id": "G1Yacfm0f5MS"
   },
   "outputs": [],
   "source": [
    "for k in range(200,500,10):\n",
    "    kmeans_mini = MiniBatchKMeans(n_clusters=k,random_state=42)\n",
    "    X_digits_dist = kmeans_mini.fit_transform(X_train)\n",
    "    representative_digit_idx = np.argmin(X_digits_dist, axis=0)\n",
    "    X_representative_images = X_train_full[representative_digit_idx]\n",
    "    inertia_dict_minibatch[k]=kmeans_mini.inertia_\n",
    "    y_representative_images = y_train_full[representative_digit_idx]\n",
    "\n",
    "    log_reg = LogisticRegression(multi_class=\"ovr\",random_state=42,max_iter=500,solver='liblinear')\n",
    "    log_reg.fit(X_representative_images.reshape((k,784)), y_representative_images)\n",
    "    minibatch_scores[k] = log_reg.score(X_train_full.reshape((60000,784)), y_train_full)"
   ]
  },
  {
   "cell_type": "code",
   "execution_count": null,
   "metadata": {
    "colab": {
     "base_uri": "https://localhost:8080/"
    },
    "id": "2X8fcDDUe_cc",
    "outputId": "64061e0a-ebb9-4a05-ec92-5db0f9857602",
    "scrolled": true
   },
   "outputs": [
    {
     "data": {
      "text/plain": [
       "{200: 1128389.8180508912,\n",
       " 210: 1118520.0905231198,\n",
       " 220: 1111425.6483928794,\n",
       " 230: 1103405.5347432815,\n",
       " 240: 1099358.2618958429,\n",
       " 250: 1091232.3094751176,\n",
       " 260: 1088728.1712960028,\n",
       " 270: 1080091.2439527353,\n",
       " 280: 1077556.3186257295,\n",
       " 290: 1073260.5625494788,\n",
       " 300: 1073313.8164239398,\n",
       " 310: 1061162.4377903368,\n",
       " 320: 1053561.9626250293,\n",
       " 330: 1055546.3462712497,\n",
       " 340: 1049392.0767282664,\n",
       " 350: 1052725.3403650115,\n",
       " 360: 1040303.9113734942,\n",
       " 370: 1040318.6783737149,\n",
       " 380: 1033510.3325072741,\n",
       " 390: 1033984.6874729461,\n",
       " 400: 1029019.1385935578,\n",
       " 410: 1025221.1707129548,\n",
       " 420: 1020088.7715793735,\n",
       " 430: 1023191.004701263,\n",
       " 440: 1015187.932032931,\n",
       " 450: 1017521.1197295256,\n",
       " 460: 1010264.2709673247,\n",
       " 470: 1009305.6773108908,\n",
       " 480: 1295919.2157587348,\n",
       " 490: 1010094.1787398993,\n",
       " 1100: 1229066.7069014423,\n",
       " 1110: 1234515.9473092798,\n",
       " 1120: 1226206.4255412654,\n",
       " 1130: 919145.0876793945,\n",
       " 1140: 917552.9393592789,\n",
       " 1150: 917473.70745654,\n",
       " 1160: 917381.0872622875,\n",
       " 1170: 913098.9632003211,\n",
       " 1180: 918873.5833425972,\n",
       " 1190: 912922.4994982833}"
      ]
     },
     "execution_count": 19,
     "metadata": {
      "tags": []
     },
     "output_type": "execute_result"
    }
   ],
   "source": [
    "inertia_dict_minibatch"
   ]
  },
  {
   "cell_type": "code",
   "execution_count": null,
   "metadata": {
    "colab": {
     "base_uri": "https://localhost:8080/"
    },
    "id": "hTjPeGcuJNFT",
    "outputId": "51bd0043-1317-4c9a-d22d-e9c61c164d57",
    "scrolled": true
   },
   "outputs": [
    {
     "data": {
      "text/plain": [
       "{200: 0.73685,\n",
       " 210: 0.7417833333333334,\n",
       " 220: 0.7382833333333333,\n",
       " 230: 0.7420833333333333,\n",
       " 240: 0.7394666666666667,\n",
       " 250: 0.73615,\n",
       " 260: 0.75175,\n",
       " 270: 0.7530833333333333,\n",
       " 280: 0.7525166666666666,\n",
       " 290: 0.74755,\n",
       " 300: 0.7581166666666667,\n",
       " 310: 0.7596666666666667,\n",
       " 320: 0.75155,\n",
       " 330: 0.7542,\n",
       " 340: 0.7494166666666666,\n",
       " 350: 0.7597833333333334,\n",
       " 360: 0.7524,\n",
       " 370: 0.7499833333333333,\n",
       " 380: 0.7556666666666667,\n",
       " 390: 0.7483833333333333,\n",
       " 400: 0.747,\n",
       " 410: 0.76295,\n",
       " 420: 0.7699666666666667,\n",
       " 430: 0.7678166666666667,\n",
       " 440: 0.7729166666666667,\n",
       " 450: 0.74985,\n",
       " 460: 0.75765,\n",
       " 470: 0.7632166666666667,\n",
       " 480: 0.7562666666666666,\n",
       " 490: 0.7727666666666667,\n",
       " 500: 0.7529,\n",
       " 510: 0.7606,\n",
       " 520: 0.7645166666666666,\n",
       " 530: 0.7717333333333334,\n",
       " 540: 0.7523666666666666,\n",
       " 550: 0.7608333333333334,\n",
       " 560: 0.7604,\n",
       " 570: 0.7737,\n",
       " 580: 0.7622333333333333,\n",
       " 590: 0.7707333333333334,\n",
       " 600: 0.7621,\n",
       " 610: 0.76055,\n",
       " 620: 0.76035,\n",
       " 630: 0.7779,\n",
       " 640: 0.7649166666666667,\n",
       " 650: 0.7744166666666666,\n",
       " 660: 0.77685,\n",
       " 670: 0.7666333333333334,\n",
       " 680: 0.7654833333333333,\n",
       " 690: 0.7696,\n",
       " 700: 0.77375,\n",
       " 710: 0.77265,\n",
       " 720: 0.7738166666666667,\n",
       " 730: 0.7687666666666667,\n",
       " 740: 0.7614833333333333,\n",
       " 750: 0.7677833333333334,\n",
       " 760: 0.7636333333333334,\n",
       " 770: 0.7765833333333333,\n",
       " 780: 0.7610333333333333,\n",
       " 790: 0.7640833333333333,\n",
       " 800: 0.7740333333333334,\n",
       " 810: 0.7695166666666666,\n",
       " 820: 0.7740166666666667,\n",
       " 830: 0.762,\n",
       " 840: 0.7717666666666667,\n",
       " 850: 0.7676166666666666,\n",
       " 860: 0.7627666666666667,\n",
       " 870: 0.7667666666666667,\n",
       " 1100: 0.7604166666666666,\n",
       " 1110: 0.76585,\n",
       " 1120: 0.7590833333333333,\n",
       " 1122: 0.768,\n",
       " 1130: 0.7800666666666667,\n",
       " 1140: 0.77605,\n",
       " 1150: 0.7728666666666667,\n",
       " 1160: 0.7802333333333333,\n",
       " 1170: 0.7669666666666667,\n",
       " 1180: 0.7708333333333334,\n",
       " 1190: 0.7669666666666667,\n",
       " 1200: 0.77495,\n",
       " 1210: 0.7637,\n",
       " 1220: 0.77395,\n",
       " 1230: 0.7735833333333333,\n",
       " 1300: 0.7664666666666666,\n",
       " 1320: 0.77255,\n",
       " 1340: 0.7748166666666667,\n",
       " 1360: 0.76235,\n",
       " 1380: 0.76965,\n",
       " 1400: 0.7683666666666666,\n",
       " 1420: 0.7757166666666667,\n",
       " 1440: 0.7738666666666667,\n",
       " 1460: 0.7777166666666666,\n",
       " 1480: 0.7598333333333334,\n",
       " 1500: 0.7776,\n",
       " 1520: 0.7735166666666666,\n",
       " 1540: 0.7747,\n",
       " 1560: 0.7733166666666667,\n",
       " 1580: 0.7733166666666667,\n",
       " 1600: 0.7714333333333333,\n",
       " 2500: 0.7651166666666667,\n",
       " 4999: 0.7444833333333334}"
      ]
     },
     "execution_count": 55,
     "metadata": {
      "tags": []
     },
     "output_type": "execute_result"
    }
   ],
   "source": [
    "minibatch_scores"
   ]
  },
  {
   "cell_type": "code",
   "execution_count": null,
   "metadata": {
    "colab": {
     "base_uri": "https://localhost:8080/",
     "height": 295
    },
    "id": "70u03QeZYc_q",
    "outputId": "ef00a189-9a3d-449c-ba38-f61c22cc3af4"
   },
   "outputs": [
    {
     "data": {
      "image/png": "[encoded data removed]",
      "text/plain": [
       "<Figure size 432x288 with 1 Axes>"
      ]
     },
     "metadata": {
      "needs_background": "light",
      "tags": []
     },
     "output_type": "display_data"
    }
   ],
   "source": [
    "K=range(1100,1200,10)\n",
    "inert=[]\n",
    "for i in K:\n",
    "  inert.append(inertia_dict_minibatch[i])\n",
    "plt.plot(K, inert, 'bx-')\n",
    "plt.xlabel('Values of K')\n",
    "plt.ylabel('Distortion')\n",
    "plt.title('The Elbow Method using Distortion')\n",
    "plt.show()"
   ]
  },
  {
   "cell_type": "code",
   "execution_count": null,
   "metadata": {
    "colab": {
     "base_uri": "https://localhost:8080/",
     "height": 295
    },
    "id": "XOG8UjQU1S2q",
    "outputId": "e4758af6-fd86-4e41-c6ca-27979584fb5c"
   },
   "outputs": [
    {
     "data": {
      "image/png": "[encoded data removed]",
      "text/plain": [
       "<Figure size 432x288 with 1 Axes>"
      ]
     },
     "metadata": {
      "needs_background": "light",
      "tags": []
     },
     "output_type": "display_data"
    }
   ],
   "source": [
    "K=range(200,500,10)\n",
    "inert=[]\n",
    "for i in K:\n",
    "    inert.append(inertia_dict_minibatch[i])\n",
    "plt.plot(K, inert, 'bx-')\n",
    "plt.xlabel('Values of K')\n",
    "plt.ylabel('Distortion')\n",
    "plt.title('The Elbow Method using Distortion')\n",
    "plt.show()"
   ]
  },
  {
   "cell_type": "markdown",
   "metadata": {
    "id": "S5Hdb_Sk2wr-"
   },
   "source": [
    "# Model 2 : Supervised leaning on k repesentatives via Logistic Regression\n",
    "\n",
    "---\n"
   ]
  },
  {
   "cell_type": "code",
   "execution_count": null,
   "metadata": {
    "id": "9gexiv9QKkLp"
   },
   "outputs": [],
   "source": [
    "k = 1130\n",
    "kmeans = MiniBatchKMeans(n_clusters=k, random_state=42)\n",
    "X_digits_dist = kmeans.fit_transform(X_train)\n",
    "representative_digit_idx = np.argmin(X_digits_dist, axis=0)\n",
    "X_representative_digits = X_train[representative_digit_idx]\n",
    "y_representative_digits = y_train_full[representative_digit_idx]"
   ]
  },
  {
   "cell_type": "code",
   "execution_count": null,
   "metadata": {
    "colab": {
     "base_uri": "https://localhost:8080/"
    },
    "id": "rasq8jkXdAVC",
    "outputId": "153ca80d-9783-473d-aac3-c62d18226aea"
   },
   "outputs": [
    {
     "data": {
      "text/plain": [
       "(1130,)"
      ]
     },
     "execution_count": 42,
     "metadata": {
      "tags": []
     },
     "output_type": "execute_result"
    }
   ],
   "source": [
    "representative_digit_idx.shape    # index of 1130 clusters"
   ]
  },
  {
   "cell_type": "code",
   "execution_count": null,
   "metadata": {
    "colab": {
     "base_uri": "https://localhost:8080/"
    },
    "id": "_i_fuy-rcwKv",
    "outputId": "73ccdc85-477c-4b9c-afa2-13b53477758f"
   },
   "outputs": [
    {
     "data": {
      "text/plain": [
       "array([12.32623285, 12.67301294, 11.88148864, ..., 13.48600602,\n",
       "       14.6120136 , 12.77071353])"
      ]
     },
     "execution_count": 39,
     "metadata": {
      "tags": []
     },
     "output_type": "execute_result"
    }
   ],
   "source": [
    "X_digits_dist[0]   # distance of first image in training data from the 1st cluster is 12.32623285"
   ]
  },
  {
   "cell_type": "code",
   "execution_count": null,
   "metadata": {
    "colab": {
     "base_uri": "https://localhost:8080/"
    },
    "id": "9nS2ojePchJH",
    "outputId": "9b31f1ba-38f1-4ad5-aacf-ae53275a91b6"
   },
   "outputs": [
    {
     "data": {
      "text/plain": [
       "(60000, 1130)"
      ]
     },
     "execution_count": 40,
     "metadata": {
      "tags": []
     },
     "output_type": "execute_result"
    }
   ],
   "source": [
    "X_digits_dist.shape  # 1130 columns and 6000 rows"
   ]
  },
  {
   "cell_type": "code",
   "execution_count": null,
   "metadata": {
    "colab": {
     "base_uri": "https://localhost:8080/"
    },
    "id": "zCPLQe14tlIN",
    "outputId": "f773b837-4997-4e8c-8a61-a043d731ae00"
   },
   "outputs": [
    {
     "data": {
      "text/plain": [
       "0.7828666666666667"
      ]
     },
     "execution_count": 33,
     "metadata": {
      "tags": []
     },
     "output_type": "execute_result"
    }
   ],
   "source": [
    "log_reg = LogisticRegression(multi_class=\"ovr\",random_state=42,max_iter=500,solver='liblinear')\n",
    "log_reg.fit(X_representative_digits.reshape((k,784)), y_representative_digits)\n",
    "log_reg.score(X_train_full.reshape((60000,784)), y_train_full)"
   ]
  },
  {
   "cell_type": "code",
   "execution_count": null,
   "metadata": {
    "colab": {
     "base_uri": "https://localhost:8080/"
    },
    "id": "QCP7TokVuCrX",
    "outputId": "3b41dfa1-5e36-49d1-8479-93dd019f1d52"
   },
   "outputs": [
    {
     "data": {
      "text/plain": [
       "0.8056"
      ]
     },
     "execution_count": 34,
     "metadata": {
      "tags": []
     },
     "output_type": "execute_result"
    }
   ],
   "source": [
    "log_reg.score(X_test, y_test)"
   ]
  },
  {
   "cell_type": "markdown",
   "metadata": {
    "id": "Y_Ez183L3lu7"
   },
   "source": [
    "# Model 3 : Supervised leaning on k repesentatives via Feed Forward Neural Network\n",
    "\n",
    "---\n"
   ]
  },
  {
   "cell_type": "code",
   "execution_count": null,
   "metadata": {
    "colab": {
     "base_uri": "https://localhost:8080/"
    },
    "id": "TA_7ji9cslcs",
    "outputId": "95f677ef-7691-4717-dcdc-86ebfe160e23"
   },
   "outputs": [
    {
     "name": "stdout",
     "output_type": "stream",
     "text": [
      "Model: \"sequential_2\"\n",
      "_________________________________________________________________\n",
      "Layer (type)                 Output Shape              Param #   \n",
      "=================================================================\n",
      "flatten_3 (Flatten)          (None, 784)               0         \n",
      "_________________________________________________________________\n",
      "dense_6 (Dense)              (None, 100)               78500     \n",
      "_________________________________________________________________\n",
      "dense_7 (Dense)              (None, 100)               10100     \n",
      "_________________________________________________________________\n",
      "dense_8 (Dense)              (None, 10)                1010      \n",
      "=================================================================\n",
      "Total params: 89,610\n",
      "Trainable params: 89,610\n",
      "Non-trainable params: 0\n",
      "_________________________________________________________________\n"
     ]
    }
   ],
   "source": [
    "model = keras.models.Sequential([\n",
    "keras.layers.Flatten(input_shape=[784]),\n",
    "keras.layers.Dense(100, activation=\"relu\"),\n",
    "keras.layers.Dense(100, activation=\"relu\"),\n",
    "keras.layers.Dense(10, activation=\"softmax\")\n",
    "])\n",
    "\n",
    "model.summary()"
   ]
  },
  {
   "cell_type": "code",
   "execution_count": null,
   "metadata": {
    "id": "FWsMVquYt7eR"
   },
   "outputs": [],
   "source": [
    "model.compile(loss=\"sparse_categorical_crossentropy\",\n",
    "optimizer=\"adam\",\n",
    "metrics=[\"accuracy\"])"
   ]
  },
  {
   "cell_type": "code",
   "execution_count": null,
   "metadata": {
    "colab": {
     "base_uri": "https://localhost:8080/"
    },
    "id": "PKi9uVIkuSp-",
    "outputId": "714e50aa-a84d-4fde-a7f8-38a77804048f",
    "scrolled": true
   },
   "outputs": [
    {
     "name": "stdout",
     "output_type": "stream",
     "text": [
      "Epoch 1/100\n",
      "36/36 [==============================] - 0s 3ms/step - loss: 1.4784 - accuracy: 0.5053\n",
      "Epoch 2/100\n",
      "36/36 [==============================] - 0s 3ms/step - loss: 0.7329 - accuracy: 0.7389\n",
      "Epoch 3/100\n",
      "36/36 [==============================] - 0s 3ms/step - loss: 0.6270 - accuracy: 0.7726\n",
      "Epoch 4/100\n",
      "36/36 [==============================] - 0s 3ms/step - loss: 0.5130 - accuracy: 0.8195\n",
      "Epoch 5/100\n",
      "36/36 [==============================] - 0s 3ms/step - loss: 0.4543 - accuracy: 0.8407\n",
      "Epoch 6/100\n",
      "36/36 [==============================] - 0s 4ms/step - loss: 0.4107 - accuracy: 0.8558\n",
      "Epoch 7/100\n",
      "36/36 [==============================] - 0s 3ms/step - loss: 0.3843 - accuracy: 0.8619\n",
      "Epoch 8/100\n",
      "36/36 [==============================] - 0s 3ms/step - loss: 0.3983 - accuracy: 0.8628\n",
      "Epoch 9/100\n",
      "36/36 [==============================] - 0s 3ms/step - loss: 0.3311 - accuracy: 0.8929\n",
      "Epoch 10/100\n",
      "36/36 [==============================] - 0s 3ms/step - loss: 0.3382 - accuracy: 0.8850\n",
      "Epoch 11/100\n",
      "36/36 [==============================] - 0s 3ms/step - loss: 0.2976 - accuracy: 0.8894\n",
      "Epoch 12/100\n",
      "36/36 [==============================] - 0s 3ms/step - loss: 0.2928 - accuracy: 0.8982\n",
      "Epoch 13/100\n",
      "36/36 [==============================] - 0s 3ms/step - loss: 0.2505 - accuracy: 0.9204\n",
      "Epoch 14/100\n",
      "36/36 [==============================] - 0s 3ms/step - loss: 0.2327 - accuracy: 0.9142\n",
      "Epoch 15/100\n",
      "36/36 [==============================] - 0s 3ms/step - loss: 0.2332 - accuracy: 0.9239\n",
      "Epoch 16/100\n",
      "36/36 [==============================] - 0s 3ms/step - loss: 0.2260 - accuracy: 0.9097\n",
      "Epoch 17/100\n",
      "36/36 [==============================] - 0s 3ms/step - loss: 0.2271 - accuracy: 0.9168\n",
      "Epoch 18/100\n",
      "36/36 [==============================] - 0s 3ms/step - loss: 0.1982 - accuracy: 0.9257\n",
      "Epoch 19/100\n",
      "36/36 [==============================] - 0s 3ms/step - loss: 0.2306 - accuracy: 0.9133\n",
      "Epoch 20/100\n",
      "36/36 [==============================] - 0s 3ms/step - loss: 0.2266 - accuracy: 0.9212\n",
      "Epoch 21/100\n",
      "36/36 [==============================] - 0s 3ms/step - loss: 0.1695 - accuracy: 0.9407\n",
      "Epoch 22/100\n",
      "36/36 [==============================] - 0s 3ms/step - loss: 0.1791 - accuracy: 0.9345\n",
      "Epoch 23/100\n",
      "36/36 [==============================] - 0s 4ms/step - loss: 0.1882 - accuracy: 0.9274\n",
      "Epoch 24/100\n",
      "36/36 [==============================] - 0s 3ms/step - loss: 0.1353 - accuracy: 0.9558\n",
      "Epoch 25/100\n",
      "36/36 [==============================] - 0s 3ms/step - loss: 0.1376 - accuracy: 0.9513\n",
      "Epoch 26/100\n",
      "36/36 [==============================] - 0s 3ms/step - loss: 0.1346 - accuracy: 0.9522\n",
      "Epoch 27/100\n",
      "36/36 [==============================] - 0s 3ms/step - loss: 0.1133 - accuracy: 0.9637\n",
      "Epoch 28/100\n",
      "36/36 [==============================] - 0s 3ms/step - loss: 0.1200 - accuracy: 0.9575\n",
      "Epoch 29/100\n",
      "36/36 [==============================] - 0s 3ms/step - loss: 0.1197 - accuracy: 0.9655\n",
      "Epoch 30/100\n",
      "36/36 [==============================] - 0s 3ms/step - loss: 0.0918 - accuracy: 0.9690\n",
      "Epoch 31/100\n",
      "36/36 [==============================] - 0s 3ms/step - loss: 0.1320 - accuracy: 0.9522\n",
      "Epoch 32/100\n",
      "36/36 [==============================] - 0s 4ms/step - loss: 0.1041 - accuracy: 0.9637\n",
      "Epoch 33/100\n",
      "36/36 [==============================] - 0s 3ms/step - loss: 0.0806 - accuracy: 0.9717\n",
      "Epoch 34/100\n",
      "36/36 [==============================] - 0s 3ms/step - loss: 0.1165 - accuracy: 0.9531\n",
      "Epoch 35/100\n",
      "36/36 [==============================] - 0s 3ms/step - loss: 0.0979 - accuracy: 0.9664\n",
      "Epoch 36/100\n",
      "36/36 [==============================] - 0s 3ms/step - loss: 0.1320 - accuracy: 0.9540\n",
      "Epoch 37/100\n",
      "36/36 [==============================] - 0s 3ms/step - loss: 0.1015 - accuracy: 0.9628\n",
      "Epoch 38/100\n",
      "36/36 [==============================] - 0s 3ms/step - loss: 0.0823 - accuracy: 0.9726\n",
      "Epoch 39/100\n",
      "36/36 [==============================] - 0s 3ms/step - loss: 0.0835 - accuracy: 0.9761\n",
      "Epoch 40/100\n",
      "36/36 [==============================] - 0s 3ms/step - loss: 0.0820 - accuracy: 0.9735\n",
      "Epoch 41/100\n",
      "36/36 [==============================] - 0s 3ms/step - loss: 0.0686 - accuracy: 0.9796\n",
      "Epoch 42/100\n",
      "36/36 [==============================] - 0s 3ms/step - loss: 0.0785 - accuracy: 0.9726\n",
      "Epoch 43/100\n",
      "36/36 [==============================] - 0s 3ms/step - loss: 0.0561 - accuracy: 0.9850\n",
      "Epoch 44/100\n",
      "36/36 [==============================] - 0s 3ms/step - loss: 0.0576 - accuracy: 0.9814\n",
      "Epoch 45/100\n",
      "36/36 [==============================] - 0s 3ms/step - loss: 0.0579 - accuracy: 0.9805\n",
      "Epoch 46/100\n",
      "36/36 [==============================] - 0s 3ms/step - loss: 0.0529 - accuracy: 0.9841\n",
      "Epoch 47/100\n",
      "36/36 [==============================] - 0s 3ms/step - loss: 0.0570 - accuracy: 0.9832\n",
      "Epoch 48/100\n",
      "36/36 [==============================] - 0s 3ms/step - loss: 0.0656 - accuracy: 0.9796\n",
      "Epoch 49/100\n",
      "36/36 [==============================] - 0s 3ms/step - loss: 0.0414 - accuracy: 0.9876\n",
      "Epoch 50/100\n",
      "36/36 [==============================] - 0s 3ms/step - loss: 0.0340 - accuracy: 0.9912\n",
      "Epoch 51/100\n",
      "36/36 [==============================] - 0s 3ms/step - loss: 0.0287 - accuracy: 0.9947\n",
      "Epoch 52/100\n",
      "36/36 [==============================] - 0s 3ms/step - loss: 0.0264 - accuracy: 0.9956\n",
      "Epoch 53/100\n",
      "36/36 [==============================] - 0s 3ms/step - loss: 0.0410 - accuracy: 0.9894\n",
      "Epoch 54/100\n",
      "36/36 [==============================] - 0s 4ms/step - loss: 0.0387 - accuracy: 0.9894\n",
      "Epoch 55/100\n",
      "36/36 [==============================] - 0s 3ms/step - loss: 0.0226 - accuracy: 0.9956\n",
      "Epoch 56/100\n",
      "36/36 [==============================] - 0s 3ms/step - loss: 0.0234 - accuracy: 0.9938\n",
      "Epoch 57/100\n",
      "36/36 [==============================] - 0s 3ms/step - loss: 0.0240 - accuracy: 0.9929\n",
      "Epoch 58/100\n",
      "36/36 [==============================] - 0s 3ms/step - loss: 0.0229 - accuracy: 0.9938\n",
      "Epoch 59/100\n",
      "36/36 [==============================] - 0s 3ms/step - loss: 0.0213 - accuracy: 0.9938\n",
      "Epoch 60/100\n",
      "36/36 [==============================] - 0s 3ms/step - loss: 0.0234 - accuracy: 0.9956\n",
      "Epoch 61/100\n",
      "36/36 [==============================] - 0s 3ms/step - loss: 0.0349 - accuracy: 0.9850\n",
      "Epoch 62/100\n",
      "36/36 [==============================] - 0s 3ms/step - loss: 0.0565 - accuracy: 0.9796\n",
      "Epoch 63/100\n",
      "36/36 [==============================] - 0s 4ms/step - loss: 0.0877 - accuracy: 0.9646\n",
      "Epoch 64/100\n",
      "36/36 [==============================] - 0s 4ms/step - loss: 0.0649 - accuracy: 0.9752\n",
      "Epoch 65/100\n",
      "36/36 [==============================] - 0s 3ms/step - loss: 0.0308 - accuracy: 0.9903\n",
      "Epoch 66/100\n",
      "36/36 [==============================] - 0s 3ms/step - loss: 0.0250 - accuracy: 0.9920\n",
      "Epoch 67/100\n",
      "36/36 [==============================] - 0s 3ms/step - loss: 0.0135 - accuracy: 0.9991\n",
      "Epoch 68/100\n",
      "36/36 [==============================] - 0s 3ms/step - loss: 0.0174 - accuracy: 0.9947\n",
      "Epoch 69/100\n",
      "36/36 [==============================] - 0s 3ms/step - loss: 0.0092 - accuracy: 1.0000\n",
      "Epoch 70/100\n",
      "36/36 [==============================] - 0s 3ms/step - loss: 0.0168 - accuracy: 0.9947\n",
      "Epoch 71/100\n",
      "36/36 [==============================] - 0s 3ms/step - loss: 0.0121 - accuracy: 0.9991\n",
      "Epoch 72/100\n",
      "36/36 [==============================] - 0s 3ms/step - loss: 0.0071 - accuracy: 1.0000\n",
      "Epoch 73/100\n",
      "36/36 [==============================] - 0s 3ms/step - loss: 0.0089 - accuracy: 0.9973\n",
      "Epoch 74/100\n",
      "36/36 [==============================] - 0s 4ms/step - loss: 0.0305 - accuracy: 0.9903\n",
      "Epoch 75/100\n",
      "36/36 [==============================] - 0s 4ms/step - loss: 0.0719 - accuracy: 0.9752\n",
      "Epoch 76/100\n",
      "36/36 [==============================] - 0s 3ms/step - loss: 0.0623 - accuracy: 0.9788\n",
      "Epoch 77/100\n",
      "36/36 [==============================] - 0s 3ms/step - loss: 0.0613 - accuracy: 0.9770\n",
      "Epoch 78/100\n",
      "36/36 [==============================] - 0s 3ms/step - loss: 0.0443 - accuracy: 0.9814\n",
      "Epoch 79/100\n",
      "36/36 [==============================] - 0s 3ms/step - loss: 0.0332 - accuracy: 0.9867\n",
      "Epoch 80/100\n",
      "36/36 [==============================] - 0s 3ms/step - loss: 0.0244 - accuracy: 0.9920\n",
      "Epoch 81/100\n",
      "36/36 [==============================] - 0s 3ms/step - loss: 0.0212 - accuracy: 0.9929\n",
      "Epoch 82/100\n",
      "36/36 [==============================] - 0s 3ms/step - loss: 0.0111 - accuracy: 0.9982\n",
      "Epoch 83/100\n",
      "36/36 [==============================] - 0s 3ms/step - loss: 0.0076 - accuracy: 0.9991\n",
      "Epoch 84/100\n",
      "36/36 [==============================] - 0s 3ms/step - loss: 0.0047 - accuracy: 1.0000\n",
      "Epoch 85/100\n",
      "36/36 [==============================] - 0s 3ms/step - loss: 0.0037 - accuracy: 1.0000\n",
      "Epoch 86/100\n",
      "36/36 [==============================] - 0s 3ms/step - loss: 0.0045 - accuracy: 1.0000\n",
      "Epoch 87/100\n",
      "36/36 [==============================] - 0s 3ms/step - loss: 0.0030 - accuracy: 1.0000\n",
      "Epoch 88/100\n",
      "36/36 [==============================] - 0s 3ms/step - loss: 0.0028 - accuracy: 1.0000\n",
      "Epoch 89/100\n",
      "36/36 [==============================] - 0s 3ms/step - loss: 0.0042 - accuracy: 1.0000\n",
      "Epoch 90/100\n",
      "36/36 [==============================] - 0s 3ms/step - loss: 0.0029 - accuracy: 1.0000\n",
      "Epoch 91/100\n",
      "36/36 [==============================] - 0s 3ms/step - loss: 0.0029 - accuracy: 1.0000\n",
      "Epoch 92/100\n",
      "36/36 [==============================] - 0s 3ms/step - loss: 0.0027 - accuracy: 1.0000\n",
      "Epoch 93/100\n",
      "36/36 [==============================] - 0s 3ms/step - loss: 0.0019 - accuracy: 1.0000\n",
      "Epoch 94/100\n",
      "36/36 [==============================] - 0s 3ms/step - loss: 0.0019 - accuracy: 1.0000\n",
      "Epoch 95/100\n",
      "36/36 [==============================] - 0s 3ms/step - loss: 0.0018 - accuracy: 1.0000\n",
      "Epoch 96/100\n",
      "36/36 [==============================] - 0s 3ms/step - loss: 0.0018 - accuracy: 1.0000\n",
      "Epoch 97/100\n",
      "36/36 [==============================] - 0s 3ms/step - loss: 0.0018 - accuracy: 1.0000\n",
      "Epoch 98/100\n",
      "36/36 [==============================] - 0s 3ms/step - loss: 0.0015 - accuracy: 1.0000\n",
      "Epoch 99/100\n",
      "36/36 [==============================] - 0s 3ms/step - loss: 0.0014 - accuracy: 1.0000\n",
      "Epoch 100/100\n",
      "36/36 [==============================] - 0s 3ms/step - loss: 0.0015 - accuracy: 1.0000\n"
     ]
    }
   ],
   "source": [
    "history = model.fit(X_representative_digits.reshape((k,784)), y_representative_digits, epochs=100)"
   ]
  },
  {
   "cell_type": "code",
   "execution_count": null,
   "metadata": {
    "colab": {
     "base_uri": "https://localhost:8080/"
    },
    "id": "IISj_3x0u9yM",
    "outputId": "6dca682a-a01e-4bfa-97d2-ddca34515e02"
   },
   "outputs": [
    {
     "name": "stdout",
     "output_type": "stream",
     "text": [
      "WARNING:tensorflow:Model was constructed with shape (None, 784) for input KerasTensor(type_spec=TensorSpec(shape=(None, 784), dtype=tf.float32, name='flatten_3_input'), name='flatten_3_input', description=\"created by layer 'flatten_3_input'\"), but it was called on an input with incompatible shape (32, 28, 28).\n",
      "1875/1875 [==============================] - 3s 2ms/step - loss: 278.5142 - accuracy: 0.8206\n"
     ]
    },
    {
     "data": {
      "text/plain": [
       "[278.51416015625, 0.8206333518028259]"
      ]
     },
     "execution_count": 38,
     "metadata": {
      "tags": []
     },
     "output_type": "execute_result"
    }
   ],
   "source": [
    "model.evaluate(X_train_full,y_train_full)"
   ]
  },
  {
   "cell_type": "code",
   "execution_count": null,
   "metadata": {
    "id": "eqAh8DtidreM"
   },
   "outputs": [],
   "source": []
  }
 ],
 "metadata": {
  "colab": {
   "collapsed_sections": [],
   "name": "A3.ipynb",
   "provenance": []
  },
  "kernelspec": {
   "display_name": "Python 3",
   "language": "python",
   "name": "python3"
  },
  "language_info": {
   "codemirror_mode": {
    "name": "ipython",
    "version": 3
   },
   "file_extension": ".py",
   "mimetype": "text/x-python",
   "name": "python",
   "nbconvert_exporter": "python",
   "pygments_lexer": "ipython3",
   "version": "3.8.5"
  }
 },
 "nbformat": 4,
 "nbformat_minor": 1
}
