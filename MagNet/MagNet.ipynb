{
  "cells": [
    {
      "cell_type": "markdown",
      "metadata": {
        "id": "view-in-github",
        "colab_type": "text"
      },
      "source": [
        "<a href=\"https://colab.research.google.com/github/oshita30/ML-basics/blob/main/MagNet/MagNet.ipynb\" target=\"_parent\"><img src=\"https://colab.research.google.com/assets/colab-badge.svg\" alt=\"Open In Colab\"/></a>"
      ]
    },
    {
      "cell_type": "code",
      "execution_count": null,
      "metadata": {
        "colab": {
          "base_uri": "https://localhost:8080/"
        },
        "id": "p1kG6293_NMi",
        "outputId": "39f8543c-a67d-46ce-a3f3-5e4b8d421ffa"
      },
      "outputs": [
        {
          "output_type": "stream",
          "name": "stdout",
          "text": [
            "--2022-01-06 08:10:43--  https://www.ngdc.noaa.gov/geomag/data/geomag/magnet/public.zip\n",
            "Resolving www.ngdc.noaa.gov (www.ngdc.noaa.gov)... 140.172.190.1\n",
            "Connecting to www.ngdc.noaa.gov (www.ngdc.noaa.gov)|140.172.190.1|:443... connected.\n",
            "HTTP request sent, awaiting response... 200 OK\n",
            "Length: 287399979 (274M) [application/zip]\n",
            "Saving to: ‘public.zip’\n",
            "\n",
            "public.zip          100%[===================>] 274.09M  1.33MB/s    in 3m 15s  \n",
            "\n",
            "2022-01-06 08:13:59 (1.41 MB/s) - ‘public.zip’ saved [287399979/287399979]\n",
            "\n",
            "Archive:  public.zip\n",
            "   creating: public/\n",
            "  inflating: public/sunspots.csv     \n",
            "  inflating: public/satellite_positions.csv  \n",
            "  inflating: public/dst_labels.csv   \n",
            "  inflating: public/solar_wind.csv   \n"
          ]
        }
      ],
      "source": [
        "!wget https://www.ngdc.noaa.gov/geomag/data/geomag/magnet/public.zip\n",
        "!unzip public.zip"
      ]
    },
    {
      "cell_type": "code",
      "execution_count": null,
      "metadata": {
        "id": "O0Rdg1XFBf7J"
      },
      "outputs": [],
      "source": [
        "from pathlib import Path\n",
        "\n",
        "import matplotlib.pyplot as plt\n",
        "import numpy as np\n",
        "import pandas as pd\n",
        "import seaborn as sns\n",
        "from sklearn.feature_selection import SelectKBest\n",
        "from tensorflow.keras import preprocessing\n",
        "\n",
        "#%load_ext nb_black\n",
        "%matplotlib inline"
      ]
    },
    {
      "cell_type": "code",
      "execution_count": null,
      "metadata": {
        "id": "CQdaqd6EAGtg"
      },
      "outputs": [],
      "source": [
        "dst = pd.read_csv(\"/content/public/dst_labels.csv\")\n",
        "dst.timedelta = pd.to_timedelta(dst.timedelta)\n",
        "dst.set_index([\"period\", \"timedelta\"], inplace=True)\n",
        "\n",
        "sunspots = pd.read_csv(\"/content/public/sunspots.csv\")\n",
        "sunspots.timedelta = pd.to_timedelta(sunspots.timedelta)\n",
        "sunspots.set_index([\"period\", \"timedelta\"], inplace=True)\n",
        "\n",
        "solar_wind = pd.read_csv(\"/content/public/solar_wind.csv\")\n",
        "solar_wind.timedelta = pd.to_timedelta(solar_wind.timedelta)\n",
        "solar_wind.set_index([\"period\", \"timedelta\"], inplace=True)"
      ]
    },
    {
      "cell_type": "code",
      "execution_count": null,
      "metadata": {
        "id": "MKwyjsS9Bebi"
      },
      "outputs": [],
      "source": [
        "\n",
        "from sklearn.preprocessing import StandardScaler\n",
        "\n",
        "# subset of solar wind features to use for modeling\n",
        "SOLAR_WIND_FEATURES = [\n",
        "    \"bt\",\n",
        "    \"temperature\",\n",
        "    \"phi_gsm\",\n",
        "    \"bx_gsm\",\n",
        "    \"by_gsm\",\n",
        "    \"bz_gsm\",\n",
        "    \"speed\",\n",
        "    \"density\",\n",
        "]\n",
        "\n",
        "# all of the features we'll use, including sunspot numbers\n",
        "XCOLS = (\n",
        "    [col + \"_mean\" for col in SOLAR_WIND_FEATURES]\n",
        "    + [col + \"_std\" for col in SOLAR_WIND_FEATURES]\n",
        "    + [\"smoothed_ssn\"]\n",
        ")\n",
        "\n",
        "\n",
        "def impute_features(feature_df):\n",
        "    \"\"\"Imputes data using the following methods:\n",
        "    - `smoothed_ssn`: forward fill\n",
        "    - `solar_wind`: interpolation\n",
        "    \"\"\"\n",
        "    # forward fill sunspot data for the rest of the month\n",
        "    feature_df.smoothed_ssn = feature_df.smoothed_ssn.fillna(method=\"ffill\")\n",
        "    # interpolate between missing solar wind values\n",
        "    feature_df = feature_df.interpolate()\n",
        "    return feature_df\n",
        "\n",
        "\n",
        "def aggregate_hourly(feature_df, aggs=[\"mean\", \"std\"]):\n",
        "    \"\"\"Aggregates features to the floor of each hour using mean and standard deviation.\n",
        "    e.g. All values from \"11:00:00\" to \"11:59:00\" will be aggregated to \"11:00:00\".\n",
        "    \"\"\"\n",
        "    # group by the floor of each hour use timedelta index\n",
        "    agged = feature_df.groupby(\n",
        "        [\"period\", feature_df.index.get_level_values(1).floor(\"H\")]\n",
        "    ).agg(aggs)\n",
        "    # flatten hierachical column index\n",
        "    agged.columns = [\"_\".join(x) for x in agged.columns]\n",
        "    return agged\n",
        "\n",
        "\n",
        "def preprocess_features(solar_wind, sunspots, scaler=None, subset=None):\n",
        "    \"\"\"\n",
        "    Preprocessing steps:\n",
        "        - Subset the data\n",
        "        - Aggregate hourly\n",
        "        - Join solar wind and sunspot data\n",
        "        - Scale using standard scaler\n",
        "        - Impute missing values\n",
        "    \"\"\"\n",
        "    # select features we want to use\n",
        "    if subset:\n",
        "        solar_wind = solar_wind[subset]\n",
        "\n",
        "    # aggregate solar wind data and join with sunspots\n",
        "    hourly_features = aggregate_hourly(solar_wind).join(sunspots)\n",
        "\n",
        "    # subtract mean and divide by standard deviation\n",
        "    if scaler is None:\n",
        "        scaler = StandardScaler()\n",
        "        scaler.fit(hourly_features)\n",
        "\n",
        "    normalized = pd.DataFrame(\n",
        "        scaler.transform(hourly_features),\n",
        "        index=hourly_features.index,\n",
        "        columns=hourly_features.columns,\n",
        "    )\n",
        "\n",
        "    # impute missing values\n",
        "    imputed = impute_features(normalized)\n",
        "\n",
        "    # we want to return the scaler object as well to use later during prediction\n",
        "    return imputed, scaler"
      ]
    },
    {
      "cell_type": "code",
      "execution_count": null,
      "metadata": {
        "colab": {
          "base_uri": "https://localhost:8080/",
          "height": 406
        },
        "id": "uoXoi3ZGCzGd",
        "outputId": "f003ebfe-3d02-427a-8a35-5cd88700d0c4"
      },
      "outputs": [
        {
          "output_type": "stream",
          "name": "stdout",
          "text": [
            "(139872, 17)\n"
          ]
        },
        {
          "output_type": "execute_result",
          "data": {
            "text/html": [
              "\n",
              "  <div id=\"df-140f9160-03ad-4b30-a040-678c7a81ae76\">\n",
              "    <div class=\"colab-df-container\">\n",
              "      <div>\n",
              "<style scoped>\n",
              "    .dataframe tbody tr th:only-of-type {\n",
              "        vertical-align: middle;\n",
              "    }\n",
              "\n",
              "    .dataframe tbody tr th {\n",
              "        vertical-align: top;\n",
              "    }\n",
              "\n",
              "    .dataframe thead th {\n",
              "        text-align: right;\n",
              "    }\n",
              "</style>\n",
              "<table border=\"1\" class=\"dataframe\">\n",
              "  <thead>\n",
              "    <tr style=\"text-align: right;\">\n",
              "      <th></th>\n",
              "      <th></th>\n",
              "      <th>bt_mean</th>\n",
              "      <th>bt_std</th>\n",
              "      <th>temperature_mean</th>\n",
              "      <th>temperature_std</th>\n",
              "      <th>phi_gsm_mean</th>\n",
              "      <th>phi_gsm_std</th>\n",
              "      <th>bx_gsm_mean</th>\n",
              "      <th>bx_gsm_std</th>\n",
              "      <th>by_gsm_mean</th>\n",
              "      <th>by_gsm_std</th>\n",
              "      <th>bz_gsm_mean</th>\n",
              "      <th>bz_gsm_std</th>\n",
              "      <th>speed_mean</th>\n",
              "      <th>speed_std</th>\n",
              "      <th>density_mean</th>\n",
              "      <th>density_std</th>\n",
              "      <th>smoothed_ssn</th>\n",
              "    </tr>\n",
              "    <tr>\n",
              "      <th>period</th>\n",
              "      <th>timedelta</th>\n",
              "      <th></th>\n",
              "      <th></th>\n",
              "      <th></th>\n",
              "      <th></th>\n",
              "      <th></th>\n",
              "      <th></th>\n",
              "      <th></th>\n",
              "      <th></th>\n",
              "      <th></th>\n",
              "      <th></th>\n",
              "      <th></th>\n",
              "      <th></th>\n",
              "      <th></th>\n",
              "      <th></th>\n",
              "      <th></th>\n",
              "      <th></th>\n",
              "      <th></th>\n",
              "    </tr>\n",
              "  </thead>\n",
              "  <tbody>\n",
              "    <tr>\n",
              "      <th rowspan=\"5\" valign=\"top\">train_a</th>\n",
              "      <th>0 days 00:00:00</th>\n",
              "      <td>0.499705</td>\n",
              "      <td>2.443614</td>\n",
              "      <td>-0.375267</td>\n",
              "      <td>0.383941</td>\n",
              "      <td>-0.368627</td>\n",
              "      <td>-0.720724</td>\n",
              "      <td>-1.600307</td>\n",
              "      <td>-0.381727</td>\n",
              "      <td>0.434424</td>\n",
              "      <td>0.021156</td>\n",
              "      <td>0.292754</td>\n",
              "      <td>-0.645095</td>\n",
              "      <td>-0.738546</td>\n",
              "      <td>0.862524</td>\n",
              "      <td>-0.775827</td>\n",
              "      <td>-0.205724</td>\n",
              "      <td>0.139444</td>\n",
              "    </tr>\n",
              "    <tr>\n",
              "      <th>0 days 01:00:00</th>\n",
              "      <td>0.547177</td>\n",
              "      <td>-0.224580</td>\n",
              "      <td>-0.479430</td>\n",
              "      <td>0.953178</td>\n",
              "      <td>-0.255717</td>\n",
              "      <td>-0.752218</td>\n",
              "      <td>-1.759200</td>\n",
              "      <td>-0.868044</td>\n",
              "      <td>0.189021</td>\n",
              "      <td>-0.282845</td>\n",
              "      <td>0.433737</td>\n",
              "      <td>-0.511040</td>\n",
              "      <td>-0.986904</td>\n",
              "      <td>0.995063</td>\n",
              "      <td>-0.861692</td>\n",
              "      <td>-0.058215</td>\n",
              "      <td>0.139444</td>\n",
              "    </tr>\n",
              "    <tr>\n",
              "      <th>0 days 02:00:00</th>\n",
              "      <td>0.739905</td>\n",
              "      <td>-0.770240</td>\n",
              "      <td>-0.574831</td>\n",
              "      <td>-0.192518</td>\n",
              "      <td>-0.254145</td>\n",
              "      <td>-0.868503</td>\n",
              "      <td>-1.913422</td>\n",
              "      <td>-1.114649</td>\n",
              "      <td>0.193116</td>\n",
              "      <td>-0.831526</td>\n",
              "      <td>0.747220</td>\n",
              "      <td>-0.870482</td>\n",
              "      <td>-1.013548</td>\n",
              "      <td>0.554085</td>\n",
              "      <td>-0.846222</td>\n",
              "      <td>-0.220012</td>\n",
              "      <td>0.139444</td>\n",
              "    </tr>\n",
              "    <tr>\n",
              "      <th>0 days 03:00:00</th>\n",
              "      <td>0.699098</td>\n",
              "      <td>-0.278783</td>\n",
              "      <td>-0.324709</td>\n",
              "      <td>0.325491</td>\n",
              "      <td>-0.049648</td>\n",
              "      <td>-0.638287</td>\n",
              "      <td>-1.810283</td>\n",
              "      <td>-0.783326</td>\n",
              "      <td>-0.380282</td>\n",
              "      <td>0.330015</td>\n",
              "      <td>0.603107</td>\n",
              "      <td>-0.282789</td>\n",
              "      <td>-0.826469</td>\n",
              "      <td>-0.211185</td>\n",
              "      <td>-0.404306</td>\n",
              "      <td>0.218373</td>\n",
              "      <td>0.139444</td>\n",
              "    </tr>\n",
              "    <tr>\n",
              "      <th>0 days 04:00:00</th>\n",
              "      <td>0.223933</td>\n",
              "      <td>-0.225168</td>\n",
              "      <td>-0.313432</td>\n",
              "      <td>0.201600</td>\n",
              "      <td>-0.238606</td>\n",
              "      <td>-0.387514</td>\n",
              "      <td>-1.339730</td>\n",
              "      <td>-0.485151</td>\n",
              "      <td>0.080228</td>\n",
              "      <td>1.010471</td>\n",
              "      <td>0.454560</td>\n",
              "      <td>-0.471111</td>\n",
              "      <td>-0.601238</td>\n",
              "      <td>1.016033</td>\n",
              "      <td>-0.371487</td>\n",
              "      <td>0.097253</td>\n",
              "      <td>0.139444</td>\n",
              "    </tr>\n",
              "  </tbody>\n",
              "</table>\n",
              "</div>\n",
              "      <button class=\"colab-df-convert\" onclick=\"convertToInteractive('df-140f9160-03ad-4b30-a040-678c7a81ae76')\"\n",
              "              title=\"Convert this dataframe to an interactive table.\"\n",
              "              style=\"display:none;\">\n",
              "        \n",
              "  <svg xmlns=\"http://www.w3.org/2000/svg\" height=\"24px\"viewBox=\"0 0 24 24\"\n",
              "       width=\"24px\">\n",
              "    <path d=\"M0 0h24v24H0V0z\" fill=\"none\"/>\n",
              "    <path d=\"M18.56 5.44l.94 2.06.94-2.06 2.06-.94-2.06-.94-.94-2.06-.94 2.06-2.06.94zm-11 1L8.5 8.5l.94-2.06 2.06-.94-2.06-.94L8.5 2.5l-.94 2.06-2.06.94zm10 10l.94 2.06.94-2.06 2.06-.94-2.06-.94-.94-2.06-.94 2.06-2.06.94z\"/><path d=\"M17.41 7.96l-1.37-1.37c-.4-.4-.92-.59-1.43-.59-.52 0-1.04.2-1.43.59L10.3 9.45l-7.72 7.72c-.78.78-.78 2.05 0 2.83L4 21.41c.39.39.9.59 1.41.59.51 0 1.02-.2 1.41-.59l7.78-7.78 2.81-2.81c.8-.78.8-2.07 0-2.86zM5.41 20L4 18.59l7.72-7.72 1.47 1.35L5.41 20z\"/>\n",
              "  </svg>\n",
              "      </button>\n",
              "      \n",
              "  <style>\n",
              "    .colab-df-container {\n",
              "      display:flex;\n",
              "      flex-wrap:wrap;\n",
              "      gap: 12px;\n",
              "    }\n",
              "\n",
              "    .colab-df-convert {\n",
              "      background-color: #E8F0FE;\n",
              "      border: none;\n",
              "      border-radius: 50%;\n",
              "      cursor: pointer;\n",
              "      display: none;\n",
              "      fill: #1967D2;\n",
              "      height: 32px;\n",
              "      padding: 0 0 0 0;\n",
              "      width: 32px;\n",
              "    }\n",
              "\n",
              "    .colab-df-convert:hover {\n",
              "      background-color: #E2EBFA;\n",
              "      box-shadow: 0px 1px 2px rgba(60, 64, 67, 0.3), 0px 1px 3px 1px rgba(60, 64, 67, 0.15);\n",
              "      fill: #174EA6;\n",
              "    }\n",
              "\n",
              "    [theme=dark] .colab-df-convert {\n",
              "      background-color: #3B4455;\n",
              "      fill: #D2E3FC;\n",
              "    }\n",
              "\n",
              "    [theme=dark] .colab-df-convert:hover {\n",
              "      background-color: #434B5C;\n",
              "      box-shadow: 0px 1px 3px 1px rgba(0, 0, 0, 0.15);\n",
              "      filter: drop-shadow(0px 1px 2px rgba(0, 0, 0, 0.3));\n",
              "      fill: #FFFFFF;\n",
              "    }\n",
              "  </style>\n",
              "\n",
              "      <script>\n",
              "        const buttonEl =\n",
              "          document.querySelector('#df-140f9160-03ad-4b30-a040-678c7a81ae76 button.colab-df-convert');\n",
              "        buttonEl.style.display =\n",
              "          google.colab.kernel.accessAllowed ? 'block' : 'none';\n",
              "\n",
              "        async function convertToInteractive(key) {\n",
              "          const element = document.querySelector('#df-140f9160-03ad-4b30-a040-678c7a81ae76');\n",
              "          const dataTable =\n",
              "            await google.colab.kernel.invokeFunction('convertToInteractive',\n",
              "                                                     [key], {});\n",
              "          if (!dataTable) return;\n",
              "\n",
              "          const docLinkHtml = 'Like what you see? Visit the ' +\n",
              "            '<a target=\"_blank\" href=https://colab.research.google.com/notebooks/data_table.ipynb>data table notebook</a>'\n",
              "            + ' to learn more about interactive tables.';\n",
              "          element.innerHTML = '';\n",
              "          dataTable['output_type'] = 'display_data';\n",
              "          await google.colab.output.renderOutput(dataTable, element);\n",
              "          const docLink = document.createElement('div');\n",
              "          docLink.innerHTML = docLinkHtml;\n",
              "          element.appendChild(docLink);\n",
              "        }\n",
              "      </script>\n",
              "    </div>\n",
              "  </div>\n",
              "  "
            ],
            "text/plain": [
              "                          bt_mean    bt_std  ...  density_std  smoothed_ssn\n",
              "period  timedelta                            ...                           \n",
              "train_a 0 days 00:00:00  0.499705  2.443614  ...    -0.205724      0.139444\n",
              "        0 days 01:00:00  0.547177 -0.224580  ...    -0.058215      0.139444\n",
              "        0 days 02:00:00  0.739905 -0.770240  ...    -0.220012      0.139444\n",
              "        0 days 03:00:00  0.699098 -0.278783  ...     0.218373      0.139444\n",
              "        0 days 04:00:00  0.223933 -0.225168  ...     0.097253      0.139444\n",
              "\n",
              "[5 rows x 17 columns]"
            ]
          },
          "metadata": {},
          "execution_count": 5
        }
      ],
      "source": [
        "features, scaler = preprocess_features(solar_wind, sunspots, subset=SOLAR_WIND_FEATURES)\n",
        "print(features.shape)\n",
        "features.head()"
      ]
    },
    {
      "cell_type": "code",
      "execution_count": null,
      "metadata": {
        "colab": {
          "base_uri": "https://localhost:8080/"
        },
        "id": "GfS7lY-DC1JT",
        "outputId": "2d255e52-ecc1-49da-d6a1-a16ea556689d"
      },
      "outputs": [
        {
          "output_type": "execute_result",
          "data": {
            "text/plain": [
              "True"
            ]
          },
          "metadata": {},
          "execution_count": 6
        }
      ],
      "source": [
        "# check to make sure missing values are filled\n",
        "(features.isna().sum() == 0).all()"
      ]
    },
    {
      "cell_type": "code",
      "execution_count": null,
      "metadata": {
        "colab": {
          "base_uri": "https://localhost:8080/"
        },
        "id": "Ja26wIZZC3zL",
        "outputId": "7e8d533e-751e-492e-add7-df6fc9203b22"
      },
      "outputs": [
        {
          "output_type": "execute_result",
          "data": {
            "text/plain": [
              "True"
            ]
          },
          "metadata": {},
          "execution_count": 7
        }
      ],
      "source": [
        "all(features.index == dst.index)"
      ]
    },
    {
      "cell_type": "code",
      "execution_count": null,
      "metadata": {
        "id": "6jRWqYWnC7qv"
      },
      "outputs": [],
      "source": [
        ""
      ]
    },
    {
      "cell_type": "markdown",
      "metadata": {
        "id": "apUyGTnaDBzs"
      },
      "source": [
        "### Before we start modeling, we also have to reshape our label, dst. Remember that we have to predict both t0, the current timestep, and t+1, an hour ahead. We'll train our LSTM to do multi-step prediction by providing it both steps. To do that, we just add another column called t1 that is dst shifted by 1. We'll also renamed our dst column to t0 for consistency"
      ]
    },
    {
      "cell_type": "code",
      "execution_count": null,
      "metadata": {
        "colab": {
          "base_uri": "https://localhost:8080/",
          "height": 238
        },
        "id": "kHisBSilDCcr",
        "outputId": "29073e5c-56f0-488d-c01e-b65a577683fe"
      },
      "outputs": [
        {
          "output_type": "execute_result",
          "data": {
            "text/html": [
              "\n",
              "  <div id=\"df-2bf81696-761a-4ede-821b-86114cb0aaa6\">\n",
              "    <div class=\"colab-df-container\">\n",
              "      <div>\n",
              "<style scoped>\n",
              "    .dataframe tbody tr th:only-of-type {\n",
              "        vertical-align: middle;\n",
              "    }\n",
              "\n",
              "    .dataframe tbody tr th {\n",
              "        vertical-align: top;\n",
              "    }\n",
              "\n",
              "    .dataframe thead th {\n",
              "        text-align: right;\n",
              "    }\n",
              "</style>\n",
              "<table border=\"1\" class=\"dataframe\">\n",
              "  <thead>\n",
              "    <tr style=\"text-align: right;\">\n",
              "      <th></th>\n",
              "      <th></th>\n",
              "      <th>t0</th>\n",
              "      <th>t1</th>\n",
              "    </tr>\n",
              "    <tr>\n",
              "      <th>period</th>\n",
              "      <th>timedelta</th>\n",
              "      <th></th>\n",
              "      <th></th>\n",
              "    </tr>\n",
              "  </thead>\n",
              "  <tbody>\n",
              "    <tr>\n",
              "      <th rowspan=\"5\" valign=\"top\">train_a</th>\n",
              "      <th>0 days 00:00:00</th>\n",
              "      <td>-10.0</td>\n",
              "      <td>-10.0</td>\n",
              "    </tr>\n",
              "    <tr>\n",
              "      <th>0 days 01:00:00</th>\n",
              "      <td>-10.0</td>\n",
              "      <td>-6.0</td>\n",
              "    </tr>\n",
              "    <tr>\n",
              "      <th>0 days 02:00:00</th>\n",
              "      <td>-6.0</td>\n",
              "      <td>-2.0</td>\n",
              "    </tr>\n",
              "    <tr>\n",
              "      <th>0 days 03:00:00</th>\n",
              "      <td>-2.0</td>\n",
              "      <td>3.0</td>\n",
              "    </tr>\n",
              "    <tr>\n",
              "      <th>0 days 04:00:00</th>\n",
              "      <td>3.0</td>\n",
              "      <td>5.0</td>\n",
              "    </tr>\n",
              "  </tbody>\n",
              "</table>\n",
              "</div>\n",
              "      <button class=\"colab-df-convert\" onclick=\"convertToInteractive('df-2bf81696-761a-4ede-821b-86114cb0aaa6')\"\n",
              "              title=\"Convert this dataframe to an interactive table.\"\n",
              "              style=\"display:none;\">\n",
              "        \n",
              "  <svg xmlns=\"http://www.w3.org/2000/svg\" height=\"24px\"viewBox=\"0 0 24 24\"\n",
              "       width=\"24px\">\n",
              "    <path d=\"M0 0h24v24H0V0z\" fill=\"none\"/>\n",
              "    <path d=\"M18.56 5.44l.94 2.06.94-2.06 2.06-.94-2.06-.94-.94-2.06-.94 2.06-2.06.94zm-11 1L8.5 8.5l.94-2.06 2.06-.94-2.06-.94L8.5 2.5l-.94 2.06-2.06.94zm10 10l.94 2.06.94-2.06 2.06-.94-2.06-.94-.94-2.06-.94 2.06-2.06.94z\"/><path d=\"M17.41 7.96l-1.37-1.37c-.4-.4-.92-.59-1.43-.59-.52 0-1.04.2-1.43.59L10.3 9.45l-7.72 7.72c-.78.78-.78 2.05 0 2.83L4 21.41c.39.39.9.59 1.41.59.51 0 1.02-.2 1.41-.59l7.78-7.78 2.81-2.81c.8-.78.8-2.07 0-2.86zM5.41 20L4 18.59l7.72-7.72 1.47 1.35L5.41 20z\"/>\n",
              "  </svg>\n",
              "      </button>\n",
              "      \n",
              "  <style>\n",
              "    .colab-df-container {\n",
              "      display:flex;\n",
              "      flex-wrap:wrap;\n",
              "      gap: 12px;\n",
              "    }\n",
              "\n",
              "    .colab-df-convert {\n",
              "      background-color: #E8F0FE;\n",
              "      border: none;\n",
              "      border-radius: 50%;\n",
              "      cursor: pointer;\n",
              "      display: none;\n",
              "      fill: #1967D2;\n",
              "      height: 32px;\n",
              "      padding: 0 0 0 0;\n",
              "      width: 32px;\n",
              "    }\n",
              "\n",
              "    .colab-df-convert:hover {\n",
              "      background-color: #E2EBFA;\n",
              "      box-shadow: 0px 1px 2px rgba(60, 64, 67, 0.3), 0px 1px 3px 1px rgba(60, 64, 67, 0.15);\n",
              "      fill: #174EA6;\n",
              "    }\n",
              "\n",
              "    [theme=dark] .colab-df-convert {\n",
              "      background-color: #3B4455;\n",
              "      fill: #D2E3FC;\n",
              "    }\n",
              "\n",
              "    [theme=dark] .colab-df-convert:hover {\n",
              "      background-color: #434B5C;\n",
              "      box-shadow: 0px 1px 3px 1px rgba(0, 0, 0, 0.15);\n",
              "      filter: drop-shadow(0px 1px 2px rgba(0, 0, 0, 0.3));\n",
              "      fill: #FFFFFF;\n",
              "    }\n",
              "  </style>\n",
              "\n",
              "      <script>\n",
              "        const buttonEl =\n",
              "          document.querySelector('#df-2bf81696-761a-4ede-821b-86114cb0aaa6 button.colab-df-convert');\n",
              "        buttonEl.style.display =\n",
              "          google.colab.kernel.accessAllowed ? 'block' : 'none';\n",
              "\n",
              "        async function convertToInteractive(key) {\n",
              "          const element = document.querySelector('#df-2bf81696-761a-4ede-821b-86114cb0aaa6');\n",
              "          const dataTable =\n",
              "            await google.colab.kernel.invokeFunction('convertToInteractive',\n",
              "                                                     [key], {});\n",
              "          if (!dataTable) return;\n",
              "\n",
              "          const docLinkHtml = 'Like what you see? Visit the ' +\n",
              "            '<a target=\"_blank\" href=https://colab.research.google.com/notebooks/data_table.ipynb>data table notebook</a>'\n",
              "            + ' to learn more about interactive tables.';\n",
              "          element.innerHTML = '';\n",
              "          dataTable['output_type'] = 'display_data';\n",
              "          await google.colab.output.renderOutput(dataTable, element);\n",
              "          const docLink = document.createElement('div');\n",
              "          docLink.innerHTML = docLinkHtml;\n",
              "          element.appendChild(docLink);\n",
              "        }\n",
              "      </script>\n",
              "    </div>\n",
              "  </div>\n",
              "  "
            ],
            "text/plain": [
              "                           t0    t1\n",
              "period  timedelta                  \n",
              "train_a 0 days 00:00:00 -10.0 -10.0\n",
              "        0 days 01:00:00 -10.0  -6.0\n",
              "        0 days 02:00:00  -6.0  -2.0\n",
              "        0 days 03:00:00  -2.0   3.0\n",
              "        0 days 04:00:00   3.0   5.0"
            ]
          },
          "metadata": {},
          "execution_count": 8
        }
      ],
      "source": [
        "YCOLS = [\"t0\", \"t1\"]\n",
        "\n",
        "\n",
        "def process_labels(dst):\n",
        "    y = dst.copy()\n",
        "    y[\"t0\"] = y.groupby(\"period\").dst.shift(-1)\n",
        "    y[\"t1\"] = y.groupby(\"period\").dst.shift(-2)\n",
        "    return y[YCOLS]\n",
        "\n",
        "\n",
        "labels = process_labels(dst)\n",
        "labels.head()"
      ]
    },
    {
      "cell_type": "markdown",
      "metadata": {
        "id": "ilI_twNNDNSy"
      },
      "source": [
        "### Now we have our features and our labels. Let's join them together into one data df so that it's easier to keep the appropriate rows together when splitting into our train, test, and validation sets."
      ]
    },
    {
      "cell_type": "code",
      "execution_count": null,
      "metadata": {
        "colab": {
          "base_uri": "https://localhost:8080/",
          "height": 388
        },
        "id": "nQrEAzosDEh5",
        "outputId": "6e405ac3-ea4e-4010-9ee7-7a4aee7906ef"
      },
      "outputs": [
        {
          "output_type": "execute_result",
          "data": {
            "text/html": [
              "\n",
              "  <div id=\"df-942fad4f-a323-4fc2-8cb7-dadee205f35d\">\n",
              "    <div class=\"colab-df-container\">\n",
              "      <div>\n",
              "<style scoped>\n",
              "    .dataframe tbody tr th:only-of-type {\n",
              "        vertical-align: middle;\n",
              "    }\n",
              "\n",
              "    .dataframe tbody tr th {\n",
              "        vertical-align: top;\n",
              "    }\n",
              "\n",
              "    .dataframe thead th {\n",
              "        text-align: right;\n",
              "    }\n",
              "</style>\n",
              "<table border=\"1\" class=\"dataframe\">\n",
              "  <thead>\n",
              "    <tr style=\"text-align: right;\">\n",
              "      <th></th>\n",
              "      <th></th>\n",
              "      <th>t0</th>\n",
              "      <th>t1</th>\n",
              "      <th>bt_mean</th>\n",
              "      <th>bt_std</th>\n",
              "      <th>temperature_mean</th>\n",
              "      <th>temperature_std</th>\n",
              "      <th>phi_gsm_mean</th>\n",
              "      <th>phi_gsm_std</th>\n",
              "      <th>bx_gsm_mean</th>\n",
              "      <th>bx_gsm_std</th>\n",
              "      <th>by_gsm_mean</th>\n",
              "      <th>by_gsm_std</th>\n",
              "      <th>bz_gsm_mean</th>\n",
              "      <th>bz_gsm_std</th>\n",
              "      <th>speed_mean</th>\n",
              "      <th>speed_std</th>\n",
              "      <th>density_mean</th>\n",
              "      <th>density_std</th>\n",
              "      <th>smoothed_ssn</th>\n",
              "    </tr>\n",
              "    <tr>\n",
              "      <th>period</th>\n",
              "      <th>timedelta</th>\n",
              "      <th></th>\n",
              "      <th></th>\n",
              "      <th></th>\n",
              "      <th></th>\n",
              "      <th></th>\n",
              "      <th></th>\n",
              "      <th></th>\n",
              "      <th></th>\n",
              "      <th></th>\n",
              "      <th></th>\n",
              "      <th></th>\n",
              "      <th></th>\n",
              "      <th></th>\n",
              "      <th></th>\n",
              "      <th></th>\n",
              "      <th></th>\n",
              "      <th></th>\n",
              "      <th></th>\n",
              "      <th></th>\n",
              "    </tr>\n",
              "  </thead>\n",
              "  <tbody>\n",
              "    <tr>\n",
              "      <th rowspan=\"5\" valign=\"top\">train_a</th>\n",
              "      <th>0 days 00:00:00</th>\n",
              "      <td>-10.0</td>\n",
              "      <td>-10.0</td>\n",
              "      <td>0.499705</td>\n",
              "      <td>2.443614</td>\n",
              "      <td>-0.375267</td>\n",
              "      <td>0.383941</td>\n",
              "      <td>-0.368627</td>\n",
              "      <td>-0.720724</td>\n",
              "      <td>-1.600307</td>\n",
              "      <td>-0.381727</td>\n",
              "      <td>0.434424</td>\n",
              "      <td>0.021156</td>\n",
              "      <td>0.292754</td>\n",
              "      <td>-0.645095</td>\n",
              "      <td>-0.738546</td>\n",
              "      <td>0.862524</td>\n",
              "      <td>-0.775827</td>\n",
              "      <td>-0.205724</td>\n",
              "      <td>0.139444</td>\n",
              "    </tr>\n",
              "    <tr>\n",
              "      <th>0 days 01:00:00</th>\n",
              "      <td>-10.0</td>\n",
              "      <td>-6.0</td>\n",
              "      <td>0.547177</td>\n",
              "      <td>-0.224580</td>\n",
              "      <td>-0.479430</td>\n",
              "      <td>0.953178</td>\n",
              "      <td>-0.255717</td>\n",
              "      <td>-0.752218</td>\n",
              "      <td>-1.759200</td>\n",
              "      <td>-0.868044</td>\n",
              "      <td>0.189021</td>\n",
              "      <td>-0.282845</td>\n",
              "      <td>0.433737</td>\n",
              "      <td>-0.511040</td>\n",
              "      <td>-0.986904</td>\n",
              "      <td>0.995063</td>\n",
              "      <td>-0.861692</td>\n",
              "      <td>-0.058215</td>\n",
              "      <td>0.139444</td>\n",
              "    </tr>\n",
              "    <tr>\n",
              "      <th>0 days 02:00:00</th>\n",
              "      <td>-6.0</td>\n",
              "      <td>-2.0</td>\n",
              "      <td>0.739905</td>\n",
              "      <td>-0.770240</td>\n",
              "      <td>-0.574831</td>\n",
              "      <td>-0.192518</td>\n",
              "      <td>-0.254145</td>\n",
              "      <td>-0.868503</td>\n",
              "      <td>-1.913422</td>\n",
              "      <td>-1.114649</td>\n",
              "      <td>0.193116</td>\n",
              "      <td>-0.831526</td>\n",
              "      <td>0.747220</td>\n",
              "      <td>-0.870482</td>\n",
              "      <td>-1.013548</td>\n",
              "      <td>0.554085</td>\n",
              "      <td>-0.846222</td>\n",
              "      <td>-0.220012</td>\n",
              "      <td>0.139444</td>\n",
              "    </tr>\n",
              "    <tr>\n",
              "      <th>0 days 03:00:00</th>\n",
              "      <td>-2.0</td>\n",
              "      <td>3.0</td>\n",
              "      <td>0.699098</td>\n",
              "      <td>-0.278783</td>\n",
              "      <td>-0.324709</td>\n",
              "      <td>0.325491</td>\n",
              "      <td>-0.049648</td>\n",
              "      <td>-0.638287</td>\n",
              "      <td>-1.810283</td>\n",
              "      <td>-0.783326</td>\n",
              "      <td>-0.380282</td>\n",
              "      <td>0.330015</td>\n",
              "      <td>0.603107</td>\n",
              "      <td>-0.282789</td>\n",
              "      <td>-0.826469</td>\n",
              "      <td>-0.211185</td>\n",
              "      <td>-0.404306</td>\n",
              "      <td>0.218373</td>\n",
              "      <td>0.139444</td>\n",
              "    </tr>\n",
              "    <tr>\n",
              "      <th>0 days 04:00:00</th>\n",
              "      <td>3.0</td>\n",
              "      <td>5.0</td>\n",
              "      <td>0.223933</td>\n",
              "      <td>-0.225168</td>\n",
              "      <td>-0.313432</td>\n",
              "      <td>0.201600</td>\n",
              "      <td>-0.238606</td>\n",
              "      <td>-0.387514</td>\n",
              "      <td>-1.339730</td>\n",
              "      <td>-0.485151</td>\n",
              "      <td>0.080228</td>\n",
              "      <td>1.010471</td>\n",
              "      <td>0.454560</td>\n",
              "      <td>-0.471111</td>\n",
              "      <td>-0.601238</td>\n",
              "      <td>1.016033</td>\n",
              "      <td>-0.371487</td>\n",
              "      <td>0.097253</td>\n",
              "      <td>0.139444</td>\n",
              "    </tr>\n",
              "  </tbody>\n",
              "</table>\n",
              "</div>\n",
              "      <button class=\"colab-df-convert\" onclick=\"convertToInteractive('df-942fad4f-a323-4fc2-8cb7-dadee205f35d')\"\n",
              "              title=\"Convert this dataframe to an interactive table.\"\n",
              "              style=\"display:none;\">\n",
              "        \n",
              "  <svg xmlns=\"http://www.w3.org/2000/svg\" height=\"24px\"viewBox=\"0 0 24 24\"\n",
              "       width=\"24px\">\n",
              "    <path d=\"M0 0h24v24H0V0z\" fill=\"none\"/>\n",
              "    <path d=\"M18.56 5.44l.94 2.06.94-2.06 2.06-.94-2.06-.94-.94-2.06-.94 2.06-2.06.94zm-11 1L8.5 8.5l.94-2.06 2.06-.94-2.06-.94L8.5 2.5l-.94 2.06-2.06.94zm10 10l.94 2.06.94-2.06 2.06-.94-2.06-.94-.94-2.06-.94 2.06-2.06.94z\"/><path d=\"M17.41 7.96l-1.37-1.37c-.4-.4-.92-.59-1.43-.59-.52 0-1.04.2-1.43.59L10.3 9.45l-7.72 7.72c-.78.78-.78 2.05 0 2.83L4 21.41c.39.39.9.59 1.41.59.51 0 1.02-.2 1.41-.59l7.78-7.78 2.81-2.81c.8-.78.8-2.07 0-2.86zM5.41 20L4 18.59l7.72-7.72 1.47 1.35L5.41 20z\"/>\n",
              "  </svg>\n",
              "      </button>\n",
              "      \n",
              "  <style>\n",
              "    .colab-df-container {\n",
              "      display:flex;\n",
              "      flex-wrap:wrap;\n",
              "      gap: 12px;\n",
              "    }\n",
              "\n",
              "    .colab-df-convert {\n",
              "      background-color: #E8F0FE;\n",
              "      border: none;\n",
              "      border-radius: 50%;\n",
              "      cursor: pointer;\n",
              "      display: none;\n",
              "      fill: #1967D2;\n",
              "      height: 32px;\n",
              "      padding: 0 0 0 0;\n",
              "      width: 32px;\n",
              "    }\n",
              "\n",
              "    .colab-df-convert:hover {\n",
              "      background-color: #E2EBFA;\n",
              "      box-shadow: 0px 1px 2px rgba(60, 64, 67, 0.3), 0px 1px 3px 1px rgba(60, 64, 67, 0.15);\n",
              "      fill: #174EA6;\n",
              "    }\n",
              "\n",
              "    [theme=dark] .colab-df-convert {\n",
              "      background-color: #3B4455;\n",
              "      fill: #D2E3FC;\n",
              "    }\n",
              "\n",
              "    [theme=dark] .colab-df-convert:hover {\n",
              "      background-color: #434B5C;\n",
              "      box-shadow: 0px 1px 3px 1px rgba(0, 0, 0, 0.15);\n",
              "      filter: drop-shadow(0px 1px 2px rgba(0, 0, 0, 0.3));\n",
              "      fill: #FFFFFF;\n",
              "    }\n",
              "  </style>\n",
              "\n",
              "      <script>\n",
              "        const buttonEl =\n",
              "          document.querySelector('#df-942fad4f-a323-4fc2-8cb7-dadee205f35d button.colab-df-convert');\n",
              "        buttonEl.style.display =\n",
              "          google.colab.kernel.accessAllowed ? 'block' : 'none';\n",
              "\n",
              "        async function convertToInteractive(key) {\n",
              "          const element = document.querySelector('#df-942fad4f-a323-4fc2-8cb7-dadee205f35d');\n",
              "          const dataTable =\n",
              "            await google.colab.kernel.invokeFunction('convertToInteractive',\n",
              "                                                     [key], {});\n",
              "          if (!dataTable) return;\n",
              "\n",
              "          const docLinkHtml = 'Like what you see? Visit the ' +\n",
              "            '<a target=\"_blank\" href=https://colab.research.google.com/notebooks/data_table.ipynb>data table notebook</a>'\n",
              "            + ' to learn more about interactive tables.';\n",
              "          element.innerHTML = '';\n",
              "          dataTable['output_type'] = 'display_data';\n",
              "          await google.colab.output.renderOutput(dataTable, element);\n",
              "          const docLink = document.createElement('div');\n",
              "          docLink.innerHTML = docLinkHtml;\n",
              "          element.appendChild(docLink);\n",
              "        }\n",
              "      </script>\n",
              "    </div>\n",
              "  </div>\n",
              "  "
            ],
            "text/plain": [
              "                           t0    t1  ...  density_std  smoothed_ssn\n",
              "period  timedelta                    ...                           \n",
              "train_a 0 days 00:00:00 -10.0 -10.0  ...    -0.205724      0.139444\n",
              "        0 days 01:00:00 -10.0  -6.0  ...    -0.058215      0.139444\n",
              "        0 days 02:00:00  -6.0  -2.0  ...    -0.220012      0.139444\n",
              "        0 days 03:00:00  -2.0   3.0  ...     0.218373      0.139444\n",
              "        0 days 04:00:00   3.0   5.0  ...     0.097253      0.139444\n",
              "\n",
              "[5 rows x 19 columns]"
            ]
          },
          "metadata": {},
          "execution_count": 9
        }
      ],
      "source": [
        "data = labels.join(features)\n",
        "data.head()"
      ]
    },
    {
      "cell_type": "markdown",
      "metadata": {
        "id": "zcbB4DZMDUBv"
      },
      "source": [
        "### We also know that the three periods are differently distributed. That suggests that observations from each period should be included in our train set, instead of reserving one wholesale as our test or validation set.\n",
        "\n"
      ]
    },
    {
      "cell_type": "code",
      "execution_count": null,
      "metadata": {
        "id": "Neg0DNPNDQG0"
      },
      "outputs": [],
      "source": [
        "def get_train_test_val(data, test_per_period, val_per_period):\n",
        "    \"\"\"Splits data across periods into train, test, and validation\"\"\"\n",
        "    # assign the last `test_per_period` rows from each period to test\n",
        "    test = data.groupby(\"period\").tail(test_per_period)\n",
        "    interim = data[~data.index.isin(test.index)]\n",
        "    # assign the last `val_per_period` from the remaining rows to validation\n",
        "    val = interim.groupby(\"period\").tail(val_per_period)\n",
        "    # the remaining rows are assigned to train\n",
        "    train = interim[~interim.index.isin(val.index)]\n",
        "    return train, test, val\n",
        "\n",
        "\n",
        "train, test, val = get_train_test_val(data, test_per_period=6_000, val_per_period=3_000)"
      ]
    },
    {
      "cell_type": "code",
      "execution_count": null,
      "metadata": {
        "colab": {
          "base_uri": "https://localhost:8080/"
        },
        "id": "gQUrpRCCDX_p",
        "outputId": "305007a2-d0b5-49d4-be1c-6da2094127e4"
      },
      "outputs": [
        {
          "output_type": "stream",
          "name": "stdout",
          "text": [
            "Number of train batches: 3523\n",
            "Number of val batches: 276\n"
          ]
        }
      ],
      "source": [
        "data_config = {\n",
        "    \"timesteps\": 32,\n",
        "    \"batch_size\": 32,\n",
        "}\n",
        "\n",
        "\n",
        "def timeseries_dataset_from_df(df, batch_size):\n",
        "    dataset = None\n",
        "    timesteps = data_config[\"timesteps\"]\n",
        "\n",
        "    # iterate through periods\n",
        "    for _, period_df in df.groupby(\"period\"):\n",
        "        # realign features and labels so that first sequence of 32 is aligned with the 33rd target\n",
        "        inputs = period_df[XCOLS][:-timesteps]\n",
        "        outputs = period_df[YCOLS][timesteps:]\n",
        "\n",
        "        period_ds = preprocessing.timeseries_dataset_from_array(\n",
        "            inputs,\n",
        "            outputs,\n",
        "            timesteps,\n",
        "            batch_size=batch_size,\n",
        "        )\n",
        "\n",
        "        if dataset is None:\n",
        "            dataset = period_ds\n",
        "        else:\n",
        "            dataset = dataset.concatenate(period_ds)\n",
        "\n",
        "    return dataset\n",
        "\n",
        "\n",
        "train_ds = timeseries_dataset_from_df(train, data_config[\"batch_size\"])\n",
        "val_ds = timeseries_dataset_from_df(val, data_config[\"batch_size\"])\n",
        "\n",
        "print(f\"Number of train batches: {len(train_ds)}\")\n",
        "print(f\"Number of val batches: {len(val_ds)}\")"
      ]
    },
    {
      "cell_type": "code",
      "execution_count": null,
      "metadata": {
        "colab": {
          "base_uri": "https://localhost:8080/"
        },
        "id": "27hqxfJ1Dd8s",
        "outputId": "211b676f-b728-44bd-9335-680d324e21b8"
      },
      "outputs": [
        {
          "output_type": "execute_result",
          "data": {
            "text/plain": [
              "32"
            ]
          },
          "metadata": {},
          "execution_count": 12
        }
      ],
      "source": [
        "data_config[\"batch_size\"]"
      ]
    },
    {
      "cell_type": "code",
      "execution_count": null,
      "metadata": {
        "id": "Thr4k0MqDigM"
      },
      "outputs": [],
      "source": [
        "temp = pd.DataFrame(train_ds)"
      ]
    },
    {
      "cell_type": "code",
      "execution_count": null,
      "metadata": {
        "colab": {
          "base_uri": "https://localhost:8080/"
        },
        "id": "JEhqgsSO_jsn",
        "outputId": "a77fbe38-a9af-4946-b81a-af5ae59e2c59"
      },
      "outputs": [
        {
          "output_type": "stream",
          "name": "stdout",
          "text": [
            "Model: \"sequential\"\n",
            "_________________________________________________________________\n",
            " Layer (type)                Output Shape              Param #   \n",
            "=================================================================\n",
            " lstm (LSTM)                 (None, 512)               1085440   \n",
            "                                                                 \n",
            " dense (Dense)               (None, 2)                 1026      \n",
            "                                                                 \n",
            "=================================================================\n",
            "Total params: 1,086,466\n",
            "Trainable params: 1,086,466\n",
            "Non-trainable params: 0\n",
            "_________________________________________________________________\n"
          ]
        }
      ],
      "source": [
        "from keras.layers import Dense, LSTM\n",
        "from keras.models import Sequential\n",
        "\n",
        "# define our model\n",
        "model_config = {\"n_epochs\": 20, \"n_neurons\": 512, \"dropout\": 0.4, \"stateful\": False}\n",
        "\n",
        "model = Sequential()\n",
        "model.add(\n",
        "    LSTM(\n",
        "        model_config[\"n_neurons\"],\n",
        "        # usually set to (`batch_size`, `sequence_length`, `n_features`)\n",
        "        # setting the batch size to None allows for variable length batches\n",
        "        batch_input_shape=(None, data_config[\"timesteps\"], len(XCOLS)),\n",
        "        stateful=model_config[\"stateful\"],\n",
        "        dropout=model_config[\"dropout\"],\n",
        "    )\n",
        ")\n",
        "model.add(Dense(len(YCOLS)))\n",
        "model.compile(\n",
        "    loss=\"mean_squared_error\",\n",
        "    optimizer=\"adam\",\n",
        ")\n",
        "\n",
        "model.summary()"
      ]
    },
    {
      "cell_type": "code",
      "execution_count": null,
      "metadata": {
        "id": "bi0cIJwQAQsK"
      },
      "outputs": [],
      "source": [
        "history = model.fit(\n",
        "    train_ds,\n",
        "    batch_size=data_config[\"batch_size\"],\n",
        "    epochs=model_config[\"n_epochs\"],\n",
        "    verbose=0,\n",
        "    shuffle=False,\n",
        "    validation_data=val_ds,\n",
        ")"
      ]
    },
    {
      "cell_type": "code",
      "execution_count": null,
      "metadata": {
        "colab": {
          "base_uri": "https://localhost:8080/",
          "height": 389
        },
        "id": "BlVjd_FpAU3b",
        "outputId": "3dfd075e-7dd9-48e4-d657-2de4c46ca0bd"
      },
      "outputs": [
        {
          "output_type": "stream",
          "name": "stdout",
          "text": [
            "loss\n",
            "[95.26970672607422, 93.50337982177734, 91.94682312011719, 89.26710510253906, 87.23397827148438, 86.46614837646484, 84.20191192626953, 81.59308624267578, 80.62832641601562, 77.8014907836914, 76.4067153930664, 74.71691131591797, 74.23197937011719, 72.70649719238281, 71.7718734741211, 69.36102294921875, 68.55958557128906, 67.77828216552734, 66.24164581298828, 65.12492370605469]\n",
            "\n",
            "val_loss\n",
            "[179.05859375, 184.8273468017578, 187.7783203125, 188.62844848632812, 194.1012420654297, 192.2233123779297, 197.31141662597656, 197.5206756591797, 207.0099639892578, 202.87911987304688, 208.72610473632812, 216.50262451171875, 203.50741577148438, 227.61695861816406, 222.6201629638672, 228.55299377441406, 227.17222595214844, 230.97669982910156, 228.3570098876953, 223.2735595703125]\n",
            "\n"
          ]
        },
        {
          "output_type": "display_data",
          "data": {
            "image/png": "[encoded data removed]",
            "text/plain": [
              "<Figure size 432x288 with 1 Axes>"
            ]
          },
          "metadata": {
            "needs_background": "light"
          }
        }
      ],
      "source": [
        "for name, values in history.history.items():\n",
        "  print(name)\n",
        "  print(values)\n",
        "  print()\n",
        "  plt.plot(values)\n",
        "  # Saving the figure.\n",
        "  plt.savefig(\"model1.png\")"
      ]
    },
    {
      "cell_type": "code",
      "execution_count": null,
      "metadata": {
        "id": "Cm8WMxWlAYTR",
        "colab": {
          "base_uri": "https://localhost:8080/"
        },
        "outputId": "3a1894a6-0bd7-4881-e667-04860b34da45"
      },
      "outputs": [
        {
          "output_type": "execute_result",
          "data": {
            "text/plain": [
              "{'loss': [95.26970672607422,\n",
              "  93.50337982177734,\n",
              "  91.94682312011719,\n",
              "  89.26710510253906,\n",
              "  87.23397827148438,\n",
              "  86.46614837646484,\n",
              "  84.20191192626953,\n",
              "  81.59308624267578,\n",
              "  80.62832641601562,\n",
              "  77.8014907836914,\n",
              "  76.4067153930664,\n",
              "  74.71691131591797,\n",
              "  74.23197937011719,\n",
              "  72.70649719238281,\n",
              "  71.7718734741211,\n",
              "  69.36102294921875,\n",
              "  68.55958557128906,\n",
              "  67.77828216552734,\n",
              "  66.24164581298828,\n",
              "  65.12492370605469],\n",
              " 'val_loss': [179.05859375,\n",
              "  184.8273468017578,\n",
              "  187.7783203125,\n",
              "  188.62844848632812,\n",
              "  194.1012420654297,\n",
              "  192.2233123779297,\n",
              "  197.31141662597656,\n",
              "  197.5206756591797,\n",
              "  207.0099639892578,\n",
              "  202.87911987304688,\n",
              "  208.72610473632812,\n",
              "  216.50262451171875,\n",
              "  203.50741577148438,\n",
              "  227.61695861816406,\n",
              "  222.6201629638672,\n",
              "  228.55299377441406,\n",
              "  227.17222595214844,\n",
              "  230.97669982910156,\n",
              "  228.3570098876953,\n",
              "  223.2735595703125]}"
            ]
          },
          "metadata": {},
          "execution_count": 18
        }
      ],
      "source": [
        "history.history"
      ]
    },
    {
      "cell_type": "code",
      "source": [
        "len(values)"
      ],
      "metadata": {
        "id": "lKyHUFNZP-VR"
      },
      "execution_count": null,
      "outputs": []
    },
    {
      "cell_type": "code",
      "source": [
        ""
      ],
      "metadata": {
        "id": "EQd0tmnjQX73"
      },
      "execution_count": null,
      "outputs": []
    },
    {
      "cell_type": "code",
      "source": [
        "from keras.utils.vis_utils import plot_model\n",
        "plot_model(model, show_shapes=True, show_layer_names=True)"
      ],
      "metadata": {
        "colab": {
          "base_uri": "https://localhost:8080/",
          "height": 312
        },
        "id": "36cMvG_lQksK",
        "outputId": "0b891273-709f-4cf2-bd4f-ab322c6adcfc"
      },
      "execution_count": null,
      "outputs": [
        {
          "output_type": "execute_result",
          "data": {
            "image/png": "[encoded data removed]",
            "text/plain": [
              "<IPython.core.display.Image object>"
            ]
          },
          "metadata": {},
          "execution_count": 19
        }
      ]
    },
    {
      "cell_type": "code",
      "source": [
        "pwd"
      ],
      "metadata": {
        "id": "cRQhvzIDUJpH",
        "colab": {
          "base_uri": "https://localhost:8080/",
          "height": 35
        },
        "outputId": "fe831f5c-a678-40ca-a136-dbc02477281d"
      },
      "execution_count": null,
      "outputs": [
        {
          "output_type": "execute_result",
          "data": {
            "application/vnd.google.colaboratory.intrinsic+json": {
              "type": "string"
            },
            "text/plain": [
              "'/content'"
            ]
          },
          "metadata": {},
          "execution_count": 22
        }
      ]
    },
    {
      "cell_type": "code",
      "source": [
        "values"
      ],
      "metadata": {
        "colab": {
          "base_uri": "https://localhost:8080/"
        },
        "id": "Mv3ff3HcofH4",
        "outputId": "90264d98-75e3-4793-efa3-56979be64f62"
      },
      "execution_count": null,
      "outputs": [
        {
          "output_type": "execute_result",
          "data": {
            "text/plain": [
              "[179.05859375,\n",
              " 184.8273468017578,\n",
              " 187.7783203125,\n",
              " 188.62844848632812,\n",
              " 194.1012420654297,\n",
              " 192.2233123779297,\n",
              " 197.31141662597656,\n",
              " 197.5206756591797,\n",
              " 207.0099639892578,\n",
              " 202.87911987304688,\n",
              " 208.72610473632812,\n",
              " 216.50262451171875,\n",
              " 203.50741577148438,\n",
              " 227.61695861816406,\n",
              " 222.6201629638672,\n",
              " 228.55299377441406,\n",
              " 227.17222595214844,\n",
              " 230.97669982910156,\n",
              " 228.3570098876953,\n",
              " 223.2735595703125]"
            ]
          },
          "metadata": {},
          "execution_count": 24
        }
      ]
    },
    {
      "cell_type": "code",
      "source": [
        "history.history"
      ],
      "metadata": {
        "colab": {
          "base_uri": "https://localhost:8080/"
        },
        "id": "bCGyKxszo9ZT",
        "outputId": "0f5ccd64-32c7-442f-863d-6b1dc5b6d5f0"
      },
      "execution_count": null,
      "outputs": [
        {
          "output_type": "execute_result",
          "data": {
            "text/plain": [
              "{'loss': [95.26970672607422,\n",
              "  93.50337982177734,\n",
              "  91.94682312011719,\n",
              "  89.26710510253906,\n",
              "  87.23397827148438,\n",
              "  86.46614837646484,\n",
              "  84.20191192626953,\n",
              "  81.59308624267578,\n",
              "  80.62832641601562,\n",
              "  77.8014907836914,\n",
              "  76.4067153930664,\n",
              "  74.71691131591797,\n",
              "  74.23197937011719,\n",
              "  72.70649719238281,\n",
              "  71.7718734741211,\n",
              "  69.36102294921875,\n",
              "  68.55958557128906,\n",
              "  67.77828216552734,\n",
              "  66.24164581298828,\n",
              "  65.12492370605469],\n",
              " 'val_loss': [179.05859375,\n",
              "  184.8273468017578,\n",
              "  187.7783203125,\n",
              "  188.62844848632812,\n",
              "  194.1012420654297,\n",
              "  192.2233123779297,\n",
              "  197.31141662597656,\n",
              "  197.5206756591797,\n",
              "  207.0099639892578,\n",
              "  202.87911987304688,\n",
              "  208.72610473632812,\n",
              "  216.50262451171875,\n",
              "  203.50741577148438,\n",
              "  227.61695861816406,\n",
              "  222.6201629638672,\n",
              "  228.55299377441406,\n",
              "  227.17222595214844,\n",
              "  230.97669982910156,\n",
              "  228.3570098876953,\n",
              "  223.2735595703125]}"
            ]
          },
          "metadata": {},
          "execution_count": 25
        }
      ]
    },
    {
      "cell_type": "code",
      "source": [
        "from keras.layers import Dense, LSTM,GRU, Bidirectional, Dropout, GlobalAveragePooling1D,Input,Concatenate,Flatten,Embedding,Reshape,Conv1D,TimeDistributed,BatchNormalization,GaussianNoise\n",
        "from keras.models import Sequential, Model\n",
        "\n",
        "# define our model\n",
        "model_config = {\"n_epochs\": 30, \"n_neurons\": 192*2 , \"dropout\": 0.0, \"stateful\": False}\n",
        "\n",
        "input1 = Input(shape=( data_config[\"timesteps\"], len(XCOLS)), name='x1')\n",
        "lstm1= Bidirectional(LSTM(\n",
        "        model_config[\"n_neurons\"],\n",
        "        stateful=model_config[\"stateful\"],\n",
        "        dropout=model_config[\"dropout\"],return_sequences=True\n",
        "    ))(input1)\n",
        "gru1= Bidirectional(GRU(\n",
        "         model_config[\"n_neurons\"] *3,   \n",
        "        stateful=model_config[\"stateful\"],\n",
        "        dropout=0.0,return_sequences=True\n",
        "    ))(lstm1)\n",
        "\n",
        "gaverage = Flatten() (gru1)\n",
        "dense1 = Dense(96)(gaverage)\n",
        "dense1 = Dense(128)(dense1)\n",
        "dense1 = Dense(64)(dense1)\n",
        "dense = Dense(2)(dense1)\n",
        "\n",
        "\n",
        "model = Model(inputs=input1, outputs=dense)\n",
        "model.compile(\n",
        "    loss='mean_squared_error',\n",
        "    optimizer='adam',\n",
        ")\n",
        "\n",
        "model.summary()"
      ],
      "metadata": {
        "colab": {
          "base_uri": "https://localhost:8080/"
        },
        "id": "-x7CNXy_px5r",
        "outputId": "eb87b6ec-878b-4f7d-8f53-94171d9a2157"
      },
      "execution_count": null,
      "outputs": [
        {
          "output_type": "stream",
          "name": "stdout",
          "text": [
            "Model: \"model_1\"\n",
            "_________________________________________________________________\n",
            " Layer (type)                Output Shape              Param #   \n",
            "=================================================================\n",
            " x1 (InputLayer)             [(None, 32, 17)]          0         \n",
            "                                                                 \n",
            " bidirectional_6 (Bidirectio  (None, 32, 768)          1234944   \n",
            " nal)                                                            \n",
            "                                                                 \n",
            " bidirectional_7 (Bidirectio  (None, 32, 2304)         13284864  \n",
            " nal)                                                            \n",
            "                                                                 \n",
            " flatten_3 (Flatten)         (None, 73728)             0         \n",
            "                                                                 \n",
            " dense_13 (Dense)            (None, 96)                7077984   \n",
            "                                                                 \n",
            " dense_14 (Dense)            (None, 128)               12416     \n",
            "                                                                 \n",
            " dense_15 (Dense)            (None, 64)                8256      \n",
            "                                                                 \n",
            " dense_16 (Dense)            (None, 2)                 130       \n",
            "                                                                 \n",
            "=================================================================\n",
            "Total params: 21,618,594\n",
            "Trainable params: 21,618,594\n",
            "Non-trainable params: 0\n",
            "_________________________________________________________________\n"
          ]
        }
      ]
    },
    {
      "cell_type": "code",
      "source": [
        "history1 = model.fit(\n",
        "    train_ds,\n",
        "    batch_size=data_config[\"batch_size\"],\n",
        "    epochs=model_config[\"n_epochs\"],\n",
        "    verbose=0,\n",
        "    shuffle=False,\n",
        "    validation_data=val_ds,\n",
        ")"
      ],
      "metadata": {
        "id": "P2R8Y6strgd1"
      },
      "execution_count": null,
      "outputs": []
    },
    {
      "cell_type": "code",
      "source": [
        ""
      ],
      "metadata": {
        "id": "wxuX8D_VtT1w"
      },
      "execution_count": null,
      "outputs": []
    }
  ],
  "metadata": {
    "accelerator": "TPU",
    "colab": {
      "name": "MagNet.ipynb",
      "provenance": [],
      "authorship_tag": "ABX9TyM5ty2DilH1FaZs3g3KEnJ9",
      "include_colab_link": true
    },
    "kernelspec": {
      "display_name": "Python 3",
      "name": "python3"
    },
    "language_info": {
      "name": "python"
    }
  },
  "nbformat": 4,
  "nbformat_minor": 0
}